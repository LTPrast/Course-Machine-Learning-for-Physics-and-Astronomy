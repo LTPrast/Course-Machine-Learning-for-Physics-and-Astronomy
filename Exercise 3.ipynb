{
  "nbformat": 4,
  "nbformat_minor": 0,
  "metadata": {
    "colab": {
      "name": "Kopie van ML4PhA 2022 - Exercises 3.ipynb",
      "provenance": [],
      "collapsed_sections": [
        "3HLePwK-SVgI"
      ]
    },
    "kernelspec": {
      "name": "python3",
      "display_name": "Python 3"
    },
    "language_info": {
      "name": "python"
    }
  },
  "cells": [
    {
      "cell_type": "markdown",
      "metadata": {
        "id": "S2YQld0A97U2"
      },
      "source": [
        "# Exercise sheet 3\n",
        "---\n",
        "**Machine Learning for Physics and Astronomy**\n",
        "\n",
        "Semester 2, Period 5, 2021/2022\n",
        "\n",
        "dr. Christoph Weniger, Andrea Visibile, Christiaan van Asperen, Dion Noordhuis, Kamile Lukosiute, Mathis Gerdes, Noemi Anau Montel, Silvia Cassanelli\n",
        "\n",
        "To be handed in until **28/04/2022** - 20 points\n",
        "\n",
        "---\n",
        "\n"
      ]
    },
    {
      "cell_type": "markdown",
      "metadata": {
        "id": "9jikDzeZYHpj"
      },
      "source": [
        "## Chapter 5: Gaussian Process Regression"
      ]
    },
    {
      "cell_type": "markdown",
      "metadata": {
        "id": "eWTjt5knNz2j"
      },
      "source": [
        "### 1. Gaussian Processes (11pt)"
      ]
    },
    {
      "cell_type": "markdown",
      "metadata": {
        "id": "BLz-_XO39u1Q"
      },
      "source": [
        "**Reading Material: Murphy 15.1 + 15.2 (up to and including 15.2.3)**\n",
        "\n",
        "In this exercise, we will be implementing the Gaussian process regression formalism discussed in class.  \n",
        "\n",
        "Suppose we observe a training set $(\\mathbf{x}_i, f_i)$ with $i = 1, \\ldots, N$ and where $f_i = f(\\mathbf{x}_i)$ is a noise-free observation of the function evaluated at $\\mathbf{x}_i$. Each $\\mathbf{X}$ has dimensionality $D$. Below is just such a set.\n"
      ]
    },
    {
      "cell_type": "code",
      "metadata": {
        "id": "16wxdl8C3kIs",
        "colab": {
          "base_uri": "https://localhost:8080/",
          "height": 283
        },
        "outputId": "eb3cb74a-f017-4ac5-c391-44599050e2ec"
      },
      "source": [
        "import numpy as np\n",
        "import matplotlib.pyplot as plt\n",
        "\n",
        "np.random.seed(1)\n",
        "x_i = np.random.uniform(-1., 1., 20)\n",
        "x_i[0] = -1\n",
        "x_i[-1] = 1\n",
        "f_i = np.sin(x_i*6) + np.random.randn(20)*0.3\n",
        "x_true = np.linspace(-1, 1, 100)\n",
        "f_true = np.sin(x_true*6)\n",
        "\n",
        "plt.plot(x_i, f_i, 'o', label = 'Training data')\n",
        "plt.plot(x_true, f_true, label = \"Ground truth\")\n",
        "plt.legend()\n"
      ],
      "execution_count": 1,
      "outputs": [
        {
          "output_type": "execute_result",
          "data": {
            "text/plain": [
              "<matplotlib.legend.Legend at 0x7f391a70ff10>"
            ]
          },
          "metadata": {},
          "execution_count": 1
        },
        {
          "output_type": "display_data",
          "data": {
            "text/plain": [
              "<Figure size 432x288 with 1 Axes>"
            ],
            "image/png": "[encoded data removed]"
          },
          "metadata": {
            "needs_background": "light"
          }
        }
      ]
    },
    {
      "cell_type": "markdown",
      "metadata": {
        "id": "Zg2ZGoXgMIS3"
      },
      "source": [
        "1. (0.5pt) For the data provided above, what is $D$? What is $N$?"
      ]
    },
    {
      "cell_type": "markdown",
      "metadata": {
        "id": "XoRF5yrnMbQH"
      },
      "source": [
        "$D = 1$ and $N = 20$"
      ]
    },
    {
      "cell_type": "markdown",
      "metadata": {
        "id": "VeNwE50rMiTX"
      },
      "source": [
        "2. (0.5pt) We need to reformat the training set as $\\mathbf{X}$, a $N \\times D$ matrix.   Reshape the provided $x_i$ set into an $N \\times D$ numpy array. Reshape the f_i values into a variable named F, with shape $N \\times 1$."
      ]
    },
    {
      "cell_type": "code",
      "metadata": {
        "id": "ChNNbRMFM5sD",
        "colab": {
          "base_uri": "https://localhost:8080/"
        },
        "outputId": "d47cccf4-0076-4e9e-939d-9412f977e9a3"
      },
      "source": [
        "#N=20 and D=1\n",
        "x_i = x_i.reshape([20,1])\n",
        "print(x_i.shape)\n",
        "\n",
        "f_i =  f_i.reshape([20,1])\n",
        "print(f_i.shape)"
      ],
      "execution_count": 2,
      "outputs": [
        {
          "output_type": "stream",
          "name": "stdout",
          "text": [
            "(20, 1)\n",
            "(20, 1)\n"
          ]
        }
      ]
    },
    {
      "cell_type": "markdown",
      "metadata": {
        "id": "RMjpqCXvOOsU"
      },
      "source": [
        "3. (1pt) We will want to evaluate whatever  function we learn using the GP at inputs $\\mathbf{X}_*$, with size $N_* \\times D$ and predict outputs $\\mathbf{f}_*$. In this example, let's predict 100 evenly spaced values for $\\mathbf{X}_*$ from -1 to 1, so that when we plot the learned function later, it looks almost continuous. This is our *test* set. Define the variable `X_test` with these specifications, taking care to make it the right shape."
      ]
    },
    {
      "cell_type": "code",
      "metadata": {
        "id": "L_mzRxsNPlPA",
        "colab": {
          "base_uri": "https://localhost:8080/"
        },
        "outputId": "f56691f3-5ca1-4081-a27e-7de61f29c094"
      },
      "source": [
        "# N*=100 and D=1\n",
        "X_test_not_reshaped = np.linspace(-1,1,100)\n",
        "X_test = X_test_not_reshaped.reshape([100,1])\n",
        "print(X_test.shape)"
      ],
      "execution_count": 3,
      "outputs": [
        {
          "output_type": "stream",
          "name": "stdout",
          "text": [
            "(100, 1)\n"
          ]
        }
      ]
    },
    {
      "cell_type": "markdown",
      "metadata": {
        "id": "83aNBLW8Pwdx"
      },
      "source": [
        "4. (2pt) The full joint distribution of the training set $\\mathbf{f}$ and test set $\\mathbf{f_*}$ is given by\n",
        "\n",
        "   $$\n",
        "\\left(\\begin{array}{c}\n",
        "\\mathbf{f} \\\\\n",
        "\\mathbf{f}_{*}\n",
        "\\end{array}\\right) \\sim \\mathcal{N}\\left(\\left(\\begin{array}{c}\n",
        "\\boldsymbol{\\mu} \\\\\n",
        "\\boldsymbol{\\mu}_{*}\n",
        "\\end{array}\\right),\\left(\\begin{array}{cc}\n",
        "\\boldsymbol{K} & \\boldsymbol{K}_{*} \\\\\n",
        "\\boldsymbol{K}_{*}^{T} & \\boldsymbol{K}_{* *}\n",
        "\\end{array}\\right)\\right)\n",
        "$$\n",
        "where $\\mathbf{K} = \\kappa (\\mathbf{X}, \\mathbf{X})$ is an $N \\times N$ matrix, $\\mathbf{K}_* = \\kappa (\\mathbf{X}, \\mathbf{X}_*)$ is an $N \\times N_*$ matrix, and $\\mathbf{K}_{**} = \\kappa (\\mathbf{X}_*, \\mathbf{X}_*)$ is an $N_* \\times N_*$ matrix, based on the kernel function $\\kappa( . )$. We will use the **radial basis function** (RBF) kernel, given by\n",
        "$$\n",
        "\\kappa\\left(\\mathbf{x}_i, \\mathbf{x}_i^{\\prime}\\right)= \\alpha^2 \\exp \\left(-\\frac{\\left\\|\\mathbf{x}_i-\\mathbf{x}_j\\right\\|^{2}}{2 l^{2}}\\right)\n",
        "$$\n",
        "\n",
        "   where I've renamed the bandwidth parameter to be $l$ instead of the $\\sigma$ in class because another $\\sigma$ will enter the story later. The double bars indicate the Euclidean distance. We also introduced the parameter $\\alpha$, and $\\alpha^2$ corresponds to the variance of the GP.\n",
        "\n",
        "   Note that the kernel function $\\kappa$ recieves two points $\\mathbf{x}_i$ and $\\mathbf{x}_j$ and returns the function evaluated at those points. But we will need to define $\\mathbf{K}$, a matrix which will have dimensions that are \"total amount of $\\mathbf{x}_i$'s $\\times$  total amount of $\\mathbf{x}_j$'s\". So, just this once, I will encourage you to do something in an actual nested for-loop (just this once!) for the sake of clarity. Every other time in this course, please vectorize your functions.\n",
        "\n",
        "   And with that long introduction finished, **implement the following functions**. `kappa(x_i, x_j, l)` should return an element-wise comparison of two individual examples $\\mathbf{x}_i$ and $\\mathbf{x}_j$. `Kernel(X1, X2)` should return the full matrix $\\mathbf{K}$ and should be implemented with two nested for-loops."
      ]
    },
    {
      "cell_type": "code",
      "metadata": {
        "id": "C-y2N7Y8V5cp"
      },
      "source": [
        "\n",
        "def kappa(x_i, x_j, l, alpha=1.0):\n",
        "    result = alpha**2 * np.exp(-(np.linalg.norm(x_i - x_j)**2)/(2 * l**2))\n",
        "    return result\n",
        "\n",
        "def Kernel(X1, X2, l, alpha=1.0):\n",
        "    #x_i is x_i/x_training/X and x_j is X_test/X_star\n",
        "    n1 = X1.shape[0]\n",
        "    n2= X2.shape[0]\n",
        "\n",
        "    K = []\n",
        "    for i in range(n1):\n",
        "      for j in range(n2):\n",
        "        K.append(kappa(X1[i],X2[j], l))\n",
        "    \n",
        "    K = np.array(K).reshape(n1, n2)\n",
        "    return K\n"
      ],
      "execution_count": 43,
      "outputs": []
    },
    {
      "cell_type": "markdown",
      "metadata": {
        "id": "_0qmZaSDXRZx"
      },
      "source": [
        "5. (1pt) With our kernel function in hand, let's make a plot of what it looks like! Viusalize the kernel array evaluated for all values in X_test (with X_test inputed twice) using the `plt.imshow()` function for a few (~3) reasonable values of $l$. What does the $l$ parameter represent, intuitively?  [Read about plt.imshow here.](https://matplotlib.org/stable/api/_as_gen/matplotlib.pyplot.imshow.html)."
      ]
    },
    {
      "cell_type": "code",
      "metadata": {
        "id": "Xbx07MZqX-I0",
        "colab": {
          "base_uri": "https://localhost:8080/",
          "height": 825
        },
        "outputId": "f5739fbb-1afa-44f5-ce79-f72bd6d5ae68"
      },
      "source": [
        "ls = [0.5, 1, 2]\n",
        "\n",
        "for l in ls:\n",
        "  print('l =',l)\n",
        "  kernel_mat = Kernel(X_test, X_test, l)\n",
        "  im = plt.imshow(kernel_mat)\n",
        "  cbar = plt.colorbar(im)\n",
        "  plt.show()"
      ],
      "execution_count": 44,
      "outputs": [
        {
          "output_type": "stream",
          "name": "stdout",
          "text": [
            "l = 0.5\n"
          ]
        },
        {
          "output_type": "display_data",
          "data": {
            "text/plain": [
              "<Figure size 432x288 with 2 Axes>"
            ],
            "image/png": "[encoded data removed]"
          },
          "metadata": {
            "needs_background": "light"
          }
        },
        {
          "output_type": "stream",
          "name": "stdout",
          "text": [
            "l = 1\n"
          ]
        },
        {
          "output_type": "display_data",
          "data": {
            "text/plain": [
              "<Figure size 432x288 with 2 Axes>"
            ],
            "image/png": "[encoded data removed]"
          },
          "metadata": {
            "needs_background": "light"
          }
        },
        {
          "output_type": "stream",
          "name": "stdout",
          "text": [
            "l = 2\n"
          ]
        },
        {
          "output_type": "display_data",
          "data": {
            "text/plain": [
              "<Figure size 432x288 with 2 Axes>"
            ],
            "image/png": "[encoded data removed]"
          },
          "metadata": {
            "needs_background": "light"
          }
        }
      ]
    },
    {
      "cell_type": "markdown",
      "metadata": {
        "id": "HPpD6-xeYcTC"
      },
      "source": [
        "6. (2pt) Now it's time for Gaussian process regression!\n",
        "\n",
        "Let's start with a recap.\n",
        "\n",
        "**Noise-free case**. In the absence of measurement noise, the distribution of function values $\\mathbf{f}_\\ast$ at points $\\mathbf{X}_\\ast$, conditioned on training data $\\mathbf{X}$ and observed function values $\\mathbf{f}$, is given by $\\mathbf{f}_* \\sim \\mathcal{N}(\\mathbf{f}_*| \\boldsymbol{\\mu}_*,\\boldsymbol{\\Sigma}_*)$, where \n",
        "$$\n",
        "\\boldsymbol{\\mu}_{*}=\\boldsymbol{K}_{*}^{T} \\boldsymbol{K}^{-1} \\mathbf{f} \\quad \\text { and } \\quad \\boldsymbol{\\Sigma}_{*}=\\boldsymbol{K}_{* *}-\\boldsymbol{K}_{*}^{T} \\boldsymbol{K}^{-1} \\boldsymbol{K}_{*}\n",
        "$$\n",
        "and where\n",
        "$$\n",
        "\\mathbf{K}=\\kappa(\\mathbf{X}, \\mathbf{X}), \\mathbf{K}_{*}=\\kappa\\left(\\mathbf{X}, \\mathbf{X}_{*}\\right), \\text { and } K_{* *}=\\kappa\\left(\\mathbf{X}_{*}, \\mathbf{X}_{*}\\right)\n",
        "$$\n",
        "based on the kernel function $\\kappa(\\cdot, \\cdot)$. \n",
        "\n",
        "Remember that $\\mathbf{f}_* \\sim \\mathcal{N}(\\mathbf{f}_*| \\boldsymbol{\\mu}_*,\\boldsymbol{\\Sigma}_*)$ implicitely defines a posterior over **functions**, since we are free to chose $\\mathbf{X}_\\ast$.\n",
        "\n",
        "**Noisy case**.  Suppose that we observe now a noisy version of the underlying function. \n",
        "   $$y = f(\\mathbf{X}) + \\epsilon \\\\ \\text{where} \\\\ \\epsilon \\sim \\mathcal{N}(0, \\sigma_y^2)$$\n",
        "The above discussion remains untouched, except that the mean and covariance are in this case given by$$\n",
        "\\boldsymbol{\\mu}_{*}=\\boldsymbol{K}_{*}^{T} \\boldsymbol{K}_{y}^{-1} \\mathbf{f} \\quad \\text { and } \\quad \\boldsymbol{\\Sigma}_{*}=\\boldsymbol{K}_{* *}-\\boldsymbol{K}_{*}^{T} \\boldsymbol{K}_{y}^{-1} \\boldsymbol{K}_{*}\n",
        "$$\n",
        "where now the covariance of the training data has an additional noise term, \n",
        "$$\n",
        "\\mathbf{K}_{y} \\equiv \\mathbf{K}+\\sigma_{y}^{2} \\mathbf{I}_{N}\n",
        "$$\n",
        "\n",
        "**Your Task**\n",
        "\n",
        "- Implement the function `posterior` below. `x_test` will be $\\mathbf{X}_*$, `x_train` is $\\mathbf{X}$ and `t_train` will be the corresponding training values $f(\\mathbf{x}_i)$, `l` is the bandwidth parameter and `alpha` the (square root of the) variance of the RBF kernel.  Furthermore, `sigma_y` is the noise.\n",
        "- The function should return the values (1) $\\boldsymbol{\\mu}_*$, (2)  $\\boldsymbol{\\Sigma}_*$, i.e. the parameters over the multivariate Gaussian posterior, and (3) the log marginal likelihood (see lecture slides).\n",
        "   \n",
        "   Hints: This function should not be long (max 10 lines), now that you have your kernel function in hand. If it is a long function, you may be doing something wrong. As a debugging tip: you can verify that you have the correct dimensions for $\\mathbf{K}$, $\\mathbf{K}_*$, and $\\mathbf{K}_{**}$ by calling `print(K.shape)`.\n"
      ]
    },
    {
      "cell_type": "code",
      "metadata": {
        "id": "cH6A_M2LH8MX"
      },
      "source": [
        "def posterior(x_test, x_train, t_train, l=0.1, sigma_y=0.2, alpha=1.0):\n",
        "  #all the Ks of the matrix\n",
        "  K = Kernel(x_train, x_train, l, alpha)\n",
        "  K_star = Kernel(x_train, x_test, l, alpha)\n",
        "  K_double_star = Kernel(x_test, x_test, l, alpha)\n",
        "  K_star_T = K_star.T\n",
        "\n",
        "  Ky = K + sigma_y**2 * np.identity(len(x_train))\n",
        "  Ky_inv = np.linalg.inv(Ky)\n",
        "\n",
        "  mu_star = np.matmul(np.matmul(K_star_T, Ky_inv),t_train)\n",
        "  sigma_star = K_double_star - np.matmul(np.matmul(K_star.T, Ky_inv), K_star)\n",
        "  log_marg_like = np.matmul(np.matmul(-1/2*t_train.T, Ky_inv), t_train) - 1/2*np.log(np.linalg.det(Ky)) - 1/2*len(x_train)*np.log(2*np.pi)\n",
        "\n",
        "  return mu_star, sigma_star, log_marg_like\n"
      ],
      "execution_count": 45,
      "outputs": []
    },
    {
      "cell_type": "markdown",
      "metadata": {
        "id": "JueMaRG-ft0t"
      },
      "source": [
        "7. (2pt) Run your posterior function on the training data provided earlier in this exercise, using `l=0.1`, `alpha = 0.5` and `sigma_y=0.3`, and plot the results.\n",
        "\n",
        "- Plot 3 samples of the resulting function from the posterior on the same plot as the original training data.\n",
        "- Plot the $2\\sigma$ uncertainty band, all in the same one plot.\n",
        "- Describe in some detail the certain vs uncertain regions of the plot. Connect back to the material discussed in class.\n",
        "\n",
        "Notes: You can produce samples by calling `np.random.multivariate_normal`.  [You can read documentation about this function here](https://numpy.org/doc/stable/reference/random/generated/numpy.random.multivariate_normal.html). *Note the types of dimensions that this function needs for the input parameters.*\n",
        "\n",
        "   The $2 \\sigma$ uncertainty interval of the multivariate Gaussian can be calculated as `2*np.sqrt(np.diag(cov))`. Use this value to plot the uncertainty region for your posterior. The function [plt.fill_between](https://matplotlib.org/stable/api/_as_gen/matplotlib.pyplot.fill_between.html) might be useful here. \n"
      ]
    },
    {
      "cell_type": "code",
      "metadata": {
        "id": "tSf-jTDghzbx",
        "colab": {
          "base_uri": "https://localhost:8080/",
          "height": 265
        },
        "outputId": "b0a453b9-462e-4aa8-af96-63775a445f60"
      },
      "source": [
        "plt.scatter(x_i, f_i, label='training data')\n",
        "mu_star = posterior(X_test, x_i, f_i)[0]\n",
        "sigma_star = posterior(X_test, x_i, f_i)[1]\n",
        "two_sigma = 2*np.sqrt(np.diag(sigma_star))\n",
        "mu_normal = mu_star.transpose()[0]\n",
        "\n",
        "plt.fill_between(X_test_not_reshaped, mu_normal-two_sigma, mu_normal+two_sigma, alpha=0.3, label='2 sigma')\n",
        "plt.plot(X_test_not_reshaped, mu_star, label='mean')\n",
        "\n",
        "for i in range(3):\n",
        "  y = np.random.multivariate_normal(mu_normal, sigma_star)\n",
        "  plt.plot(X_test_not_reshaped, y, label = \"Sample %g\"%(i + 1))\n",
        "  \n",
        "plt.legend()\n",
        "plt.show()"
      ],
      "execution_count": 46,
      "outputs": [
        {
          "output_type": "display_data",
          "data": {
            "text/plain": [
              "<Figure size 432x288 with 1 Axes>"
            ],
            "image/png": "[encoded data removed]"
          },
          "metadata": {
            "needs_background": "light"
          }
        }
      ]
    },
    {
      "cell_type": "markdown",
      "source": [
        "Describe in some detail the certain vs uncertain regions of the plot. Connect back to the material discussed in class.\n",
        "\n",
        "You can see that when there is more training data that the uncertainty decreases and when there is a region with less training data than the uncertainty increases."
      ],
      "metadata": {
        "id": "Kc-6rnoo77Kh"
      }
    },
    {
      "cell_type": "markdown",
      "metadata": {
        "id": "gpvTYFUKKf0e"
      },
      "source": [
        "8. (2pt) Via trial-and-error, grid or random scan, identify good hyper parameters `l`, `alpha` and `sigma_y`.  They should lead to a large log marginal likelihood. Plot the results of a few settings of the hyperparameters that you tried.\n",
        "\n",
        "- What are the best-fit parameters that you find?\n",
        "- What happens when `alpha` is too large or too small?\n",
        "- What happens when `l` is too large or too small?"
      ]
    },
    {
      "cell_type": "code",
      "metadata": {
        "id": "homnIQRsiarl",
        "colab": {
          "base_uri": "https://localhost:8080/",
          "height": 1000
        },
        "outputId": "8e32f137-491c-4c66-d579-678d5c6d4ac4"
      },
      "source": [
        "\n",
        "mu_star = posterior(X_test, x_i, f_i, l=0.1, sigma_y=0.2, alpha=1.0)[2]\n",
        "\n",
        "l = [0.01, 0.1, 0.5, 1, 10]\n",
        "sigma_y = [0.01, 0.1, 0.2, 1, 10]\n",
        "alpha = [0.01, 0.1, 0.5, 1, 10]\n",
        "log_marg_likelihoods = []\n",
        "all_parameters = np.array([])\n",
        "for i in l:\n",
        "  for j in sigma_y:\n",
        "    for k in alpha:\n",
        "      log_marg_like = posterior(X_test, x_i, f_i, l=i, sigma_y=j, alpha=k)[2][0][0]\n",
        "      log_marg_likelihoods.append(log_marg_like)\n",
        "      parameters = np.array([i,j,k])\n",
        "      all_parameters = np.append(all_parameters, parameters)\n",
        "      print('l=',i,'sigma_y=',j, 'alpha=',k, 'log marginal likelihood=',log_marg_like)\n",
        "\n",
        "all_parameters = all_parameters.reshape(len(log_marg_likelihoods),3)\n",
        "log_marg_likelihoods = np.array(log_marg_likelihoods)\n",
        "best_likeli = np.amax(log_marg_likelihoods)\n",
        "arg_best_likeli = np.argmax(log_marg_likelihoods)\n",
        "\n",
        "best_parameters = all_parameters[arg_best_likeli]\n",
        "first_parameters = all_parameters[0]\n",
        "\n",
        "\n",
        "print(best_parameters)\n",
        "print(first_parameters)\n",
        "\n",
        "plt.scatter(x_i, f_i, label='training data')\n",
        "mu_star = posterior(X_test, x_i, f_i,l=best_parameters[0], sigma_y=best_parameters[1], alpha=best_parameters[2])[0]\n",
        "sigma_star = posterior(X_test, x_i, f_i,l=best_parameters[0], sigma_y=best_parameters[1], alpha=best_parameters[2])[1]\n",
        "two_sigma = 2*np.sqrt(np.diag(sigma_star))\n",
        "mu_normal = mu_star.transpose()[0]\n",
        "\n",
        "plt.fill_between(X_test_not_reshaped, mu_normal-two_sigma, mu_normal+two_sigma, alpha=0.3, label='2 sigma')\n",
        "plt.plot(X_test_not_reshaped, mu_star, label='mean')\n",
        "plt.title('Gaussian Process Regression with best parameters')\n",
        "plt.show()\n",
        "\n",
        "plt.scatter(x_i, f_i, label='training data')\n",
        "mu_star = posterior(X_test, x_i, f_i,l=first_parameters[0], sigma_y=first_parameters[1], alpha=first_parameters[2])[0]\n",
        "sigma_star = posterior(X_test, x_i, f_i,l=first_parameters[0], sigma_y=first_parameters[1], alpha=first_parameters[2])[1]\n",
        "two_sigma = 2*np.sqrt(np.diag(sigma_star))\n",
        "mu_normal = mu_star.transpose()[0]\n",
        "\n",
        "plt.fill_between(X_test_not_reshaped, mu_normal-two_sigma, mu_normal+two_sigma, alpha=0.3, label='2 sigma')\n",
        "plt.plot(X_test_not_reshaped, mu_star, label='mean')\n",
        "plt.title('Gaussian Process Regression with l= 0.01 sigma_y= 0.01 alpha= 0.01')\n",
        "plt.show()"
      ],
      "execution_count": 47,
      "outputs": [
        {
          "output_type": "stream",
          "name": "stdout",
          "text": [
            "l= 0.01 sigma_y= 0.01 alpha= 0.01 log marginal likelihood= -124.61308292237399\n",
            "l= 0.01 sigma_y= 0.01 alpha= 0.1 log marginal likelihood= -124.61308292237399\n",
            "l= 0.01 sigma_y= 0.01 alpha= 0.5 log marginal likelihood= -124.61308292237399\n",
            "l= 0.01 sigma_y= 0.01 alpha= 1 log marginal likelihood= -124.61308292237399\n",
            "l= 0.01 sigma_y= 0.01 alpha= 10 log marginal likelihood= -124.61308292237399\n",
            "l= 0.01 sigma_y= 0.1 alpha= 0.01 log marginal likelihood= -24.55295530026091\n",
            "l= 0.01 sigma_y= 0.1 alpha= 0.1 log marginal likelihood= -24.55295530026091\n",
            "l= 0.01 sigma_y= 0.1 alpha= 0.5 log marginal likelihood= -24.55295530026091\n",
            "l= 0.01 sigma_y= 0.1 alpha= 1 log marginal likelihood= -24.55295530026091\n",
            "l= 0.01 sigma_y= 0.1 alpha= 10 log marginal likelihood= -24.55295530026091\n",
            "l= 0.01 sigma_y= 0.2 alpha= 0.01 log marginal likelihood= -22.551834187447795\n",
            "l= 0.01 sigma_y= 0.2 alpha= 0.1 log marginal likelihood= -22.551834187447795\n",
            "l= 0.01 sigma_y= 0.2 alpha= 0.5 log marginal likelihood= -22.551834187447795\n",
            "l= 0.01 sigma_y= 0.2 alpha= 1 log marginal likelihood= -22.551834187447795\n",
            "l= 0.01 sigma_y= 0.2 alpha= 10 log marginal likelihood= -22.551834187447795\n",
            "l= 0.01 sigma_y= 1 alpha= 0.01 log marginal likelihood= -27.54515250581459\n",
            "l= 0.01 sigma_y= 1 alpha= 0.1 log marginal likelihood= -27.54515250581459\n",
            "l= 0.01 sigma_y= 1 alpha= 0.5 log marginal likelihood= -27.54515250581459\n",
            "l= 0.01 sigma_y= 1 alpha= 1 log marginal likelihood= -27.54515250581459\n",
            "l= 0.01 sigma_y= 1 alpha= 10 log marginal likelihood= -27.54515250581459\n",
            "l= 0.01 sigma_y= 10 alpha= 0.01 log marginal likelihood= -64.58270661230381\n",
            "l= 0.01 sigma_y= 10 alpha= 0.1 log marginal likelihood= -64.58270661230381\n",
            "l= 0.01 sigma_y= 10 alpha= 0.5 log marginal likelihood= -64.58270661230381\n",
            "l= 0.01 sigma_y= 10 alpha= 1 log marginal likelihood= -64.58270661230381\n",
            "l= 0.01 sigma_y= 10 alpha= 10 log marginal likelihood= -64.58270661230381\n",
            "l= 0.1 sigma_y= 0.01 alpha= 0.01 log marginal likelihood= -941.3989716747365\n",
            "l= 0.1 sigma_y= 0.01 alpha= 0.1 log marginal likelihood= -941.3989716747365\n",
            "l= 0.1 sigma_y= 0.01 alpha= 0.5 log marginal likelihood= -941.3989716747365\n",
            "l= 0.1 sigma_y= 0.01 alpha= 1 log marginal likelihood= -941.3989716747365\n",
            "l= 0.1 sigma_y= 0.01 alpha= 10 log marginal likelihood= -941.3989716747365\n",
            "l= 0.1 sigma_y= 0.1 alpha= 0.01 log marginal likelihood= -22.207981841758727\n",
            "l= 0.1 sigma_y= 0.1 alpha= 0.1 log marginal likelihood= -22.207981841758727\n",
            "l= 0.1 sigma_y= 0.1 alpha= 0.5 log marginal likelihood= -22.207981841758727\n",
            "l= 0.1 sigma_y= 0.1 alpha= 1 log marginal likelihood= -22.207981841758727\n",
            "l= 0.1 sigma_y= 0.1 alpha= 10 log marginal likelihood= -22.207981841758727\n",
            "l= 0.1 sigma_y= 0.2 alpha= 0.01 log marginal likelihood= -15.674009078102458\n",
            "l= 0.1 sigma_y= 0.2 alpha= 0.1 log marginal likelihood= -15.674009078102458\n",
            "l= 0.1 sigma_y= 0.2 alpha= 0.5 log marginal likelihood= -15.674009078102458\n",
            "l= 0.1 sigma_y= 0.2 alpha= 1 log marginal likelihood= -15.674009078102458\n",
            "l= 0.1 sigma_y= 0.2 alpha= 10 log marginal likelihood= -15.674009078102458\n",
            "l= 0.1 sigma_y= 1 alpha= 0.01 log marginal likelihood= -25.68905376675235\n",
            "l= 0.1 sigma_y= 1 alpha= 0.1 log marginal likelihood= -25.68905376675235\n",
            "l= 0.1 sigma_y= 1 alpha= 0.5 log marginal likelihood= -25.68905376675235\n",
            "l= 0.1 sigma_y= 1 alpha= 1 log marginal likelihood= -25.68905376675235\n",
            "l= 0.1 sigma_y= 1 alpha= 10 log marginal likelihood= -25.68905376675235\n",
            "l= 0.1 sigma_y= 10 alpha= 0.01 log marginal likelihood= -64.58155728808916\n",
            "l= 0.1 sigma_y= 10 alpha= 0.1 log marginal likelihood= -64.58155728808916\n",
            "l= 0.1 sigma_y= 10 alpha= 0.5 log marginal likelihood= -64.58155728808916\n",
            "l= 0.1 sigma_y= 10 alpha= 1 log marginal likelihood= -64.58155728808916\n",
            "l= 0.1 sigma_y= 10 alpha= 10 log marginal likelihood= -64.58155728808916\n",
            "l= 0.5 sigma_y= 0.01 alpha= 0.01 log marginal likelihood= -3253.130432231185\n",
            "l= 0.5 sigma_y= 0.01 alpha= 0.1 log marginal likelihood= -3253.130432231185\n",
            "l= 0.5 sigma_y= 0.01 alpha= 0.5 log marginal likelihood= -3253.130432231185\n",
            "l= 0.5 sigma_y= 0.01 alpha= 1 log marginal likelihood= -3253.130432231185\n",
            "l= 0.5 sigma_y= 0.01 alpha= 10 log marginal likelihood= -3253.130432231185\n",
            "l= 0.5 sigma_y= 0.1 alpha= 0.01 log marginal likelihood= -54.67704881546892\n",
            "l= 0.5 sigma_y= 0.1 alpha= 0.1 log marginal likelihood= -54.67704881546892\n",
            "l= 0.5 sigma_y= 0.1 alpha= 0.5 log marginal likelihood= -54.67704881546892\n",
            "l= 0.5 sigma_y= 0.1 alpha= 1 log marginal likelihood= -54.67704881546892\n",
            "l= 0.5 sigma_y= 0.1 alpha= 10 log marginal likelihood= -54.67704881546892\n",
            "l= 0.5 sigma_y= 0.2 alpha= 0.01 log marginal likelihood= -28.636344241463856\n",
            "l= 0.5 sigma_y= 0.2 alpha= 0.1 log marginal likelihood= -28.636344241463856\n",
            "l= 0.5 sigma_y= 0.2 alpha= 0.5 log marginal likelihood= -28.636344241463856\n",
            "l= 0.5 sigma_y= 0.2 alpha= 1 log marginal likelihood= -28.636344241463856\n",
            "l= 0.5 sigma_y= 0.2 alpha= 10 log marginal likelihood= -28.636344241463856\n",
            "l= 0.5 sigma_y= 1 alpha= 0.01 log marginal likelihood= -25.181493895135826\n",
            "l= 0.5 sigma_y= 1 alpha= 0.1 log marginal likelihood= -25.181493895135826\n",
            "l= 0.5 sigma_y= 1 alpha= 0.5 log marginal likelihood= -25.181493895135826\n",
            "l= 0.5 sigma_y= 1 alpha= 1 log marginal likelihood= -25.181493895135826\n",
            "l= 0.5 sigma_y= 1 alpha= 10 log marginal likelihood= -25.181493895135826\n",
            "l= 0.5 sigma_y= 10 alpha= 0.01 log marginal likelihood= -64.57964920536439\n",
            "l= 0.5 sigma_y= 10 alpha= 0.1 log marginal likelihood= -64.57964920536439\n",
            "l= 0.5 sigma_y= 10 alpha= 0.5 log marginal likelihood= -64.57964920536439\n",
            "l= 0.5 sigma_y= 10 alpha= 1 log marginal likelihood= -64.57964920536439\n",
            "l= 0.5 sigma_y= 10 alpha= 10 log marginal likelihood= -64.57964920536439\n",
            "l= 1 sigma_y= 0.01 alpha= 0.01 log marginal likelihood= -12921.770045000674\n",
            "l= 1 sigma_y= 0.01 alpha= 0.1 log marginal likelihood= -12921.770045000674\n",
            "l= 1 sigma_y= 0.01 alpha= 0.5 log marginal likelihood= -12921.770045000674\n",
            "l= 1 sigma_y= 0.01 alpha= 1 log marginal likelihood= -12921.770045000674\n",
            "l= 1 sigma_y= 0.01 alpha= 10 log marginal likelihood= -12921.770045000674\n",
            "l= 1 sigma_y= 0.1 alpha= 0.01 log marginal likelihood= -324.38138263685823\n",
            "l= 1 sigma_y= 0.1 alpha= 0.1 log marginal likelihood= -324.38138263685823\n",
            "l= 1 sigma_y= 0.1 alpha= 0.5 log marginal likelihood= -324.38138263685823\n",
            "l= 1 sigma_y= 0.1 alpha= 1 log marginal likelihood= -324.38138263685823\n",
            "l= 1 sigma_y= 0.1 alpha= 10 log marginal likelihood= -324.38138263685823\n",
            "l= 1 sigma_y= 0.2 alpha= 0.01 log marginal likelihood= -89.5017387081362\n",
            "l= 1 sigma_y= 0.2 alpha= 0.1 log marginal likelihood= -89.5017387081362\n",
            "l= 1 sigma_y= 0.2 alpha= 0.5 log marginal likelihood= -89.5017387081362\n",
            "l= 1 sigma_y= 0.2 alpha= 1 log marginal likelihood= -89.5017387081362\n",
            "l= 1 sigma_y= 0.2 alpha= 10 log marginal likelihood= -89.5017387081362\n",
            "l= 1 sigma_y= 1 alpha= 0.01 log marginal likelihood= -25.542564448594092\n",
            "l= 1 sigma_y= 1 alpha= 0.1 log marginal likelihood= -25.542564448594092\n",
            "l= 1 sigma_y= 1 alpha= 0.5 log marginal likelihood= -25.542564448594092\n",
            "l= 1 sigma_y= 1 alpha= 1 log marginal likelihood= -25.542564448594092\n",
            "l= 1 sigma_y= 1 alpha= 10 log marginal likelihood= -25.542564448594092\n",
            "l= 1 sigma_y= 10 alpha= 0.01 log marginal likelihood= -64.5776972472311\n",
            "l= 1 sigma_y= 10 alpha= 0.1 log marginal likelihood= -64.5776972472311\n",
            "l= 1 sigma_y= 10 alpha= 0.5 log marginal likelihood= -64.5776972472311\n",
            "l= 1 sigma_y= 10 alpha= 1 log marginal likelihood= -64.5776972472311\n",
            "l= 1 sigma_y= 10 alpha= 10 log marginal likelihood= -64.5776972472311\n",
            "l= 10 sigma_y= 0.01 alpha= 0.01 log marginal likelihood= -45004.58078464263\n",
            "l= 10 sigma_y= 0.01 alpha= 0.1 log marginal likelihood= -45004.58078464263\n",
            "l= 10 sigma_y= 0.01 alpha= 0.5 log marginal likelihood= -45004.58078464263\n",
            "l= 10 sigma_y= 0.01 alpha= 1 log marginal likelihood= -45004.58078464263\n",
            "l= 10 sigma_y= 0.01 alpha= 10 log marginal likelihood= -45004.58078464263\n",
            "l= 10 sigma_y= 0.1 alpha= 0.01 log marginal likelihood= -439.37085466933524\n",
            "l= 10 sigma_y= 0.1 alpha= 0.1 log marginal likelihood= -439.37085466933524\n",
            "l= 10 sigma_y= 0.1 alpha= 0.5 log marginal likelihood= -439.37085466933524\n",
            "l= 10 sigma_y= 0.1 alpha= 1 log marginal likelihood= -439.37085466933524\n",
            "l= 10 sigma_y= 0.1 alpha= 10 log marginal likelihood= -439.37085466933524\n",
            "l= 10 sigma_y= 0.2 alpha= 0.01 log marginal likelihood= -109.7526795654245\n",
            "l= 10 sigma_y= 0.2 alpha= 0.1 log marginal likelihood= -109.7526795654245\n",
            "l= 10 sigma_y= 0.2 alpha= 0.5 log marginal likelihood= -109.7526795654245\n",
            "l= 10 sigma_y= 0.2 alpha= 1 log marginal likelihood= -109.7526795654245\n",
            "l= 10 sigma_y= 0.2 alpha= 10 log marginal likelihood= -109.7526795654245\n",
            "l= 10 sigma_y= 1 alpha= 0.01 log marginal likelihood= -25.13758960720552\n",
            "l= 10 sigma_y= 1 alpha= 0.1 log marginal likelihood= -25.13758960720552\n",
            "l= 10 sigma_y= 1 alpha= 0.5 log marginal likelihood= -25.13758960720552\n",
            "l= 10 sigma_y= 1 alpha= 1 log marginal likelihood= -25.13758960720552\n",
            "l= 10 sigma_y= 1 alpha= 10 log marginal likelihood= -25.13758960720552\n",
            "l= 10 sigma_y= 10 alpha= 0.01 log marginal likelihood= -64.57497387629311\n",
            "l= 10 sigma_y= 10 alpha= 0.1 log marginal likelihood= -64.57497387629311\n",
            "l= 10 sigma_y= 10 alpha= 0.5 log marginal likelihood= -64.57497387629311\n",
            "l= 10 sigma_y= 10 alpha= 1 log marginal likelihood= -64.57497387629311\n",
            "l= 10 sigma_y= 10 alpha= 10 log marginal likelihood= -64.57497387629311\n",
            "[0.1  0.2  0.01]\n",
            "[0.01 0.01 0.01]\n"
          ]
        },
        {
          "output_type": "display_data",
          "data": {
            "text/plain": [
              "<Figure size 432x288 with 1 Axes>"
            ],
            "image/png": "[encoded data removed]"
          },
          "metadata": {
            "needs_background": "light"
          }
        },
        {
          "output_type": "display_data",
          "data": {
            "text/plain": [
              "<Figure size 432x288 with 1 Axes>"
            ],
            "image/png": "[encoded data removed]"
          },
          "metadata": {
            "needs_background": "light"
          }
        }
      ]
    },
    {
      "cell_type": "markdown",
      "source": [
        "What are the best-fit parameters that you find? l = 0.1 sigma_y = 0.2 alpha = 0.01\n",
        "\n",
        "What happens when alpha is too large or too small? alpha does not some to influence the large log marginal likelihood too much\n",
        "\n",
        "What happens when l is too large or too small? When l is much larger than the other parameteers than the log marginal likelihood becomes very small"
      ],
      "metadata": {
        "id": "e5fqNV8o6EHQ"
      }
    },
    {
      "cell_type": "markdown",
      "metadata": {
        "id": "HaQUUlp-68Jv"
      },
      "source": [
        "## Chapter 6: Logistic regression - classification (9 points)\n"
      ]
    },
    {
      "cell_type": "markdown",
      "metadata": {
        "id": "9W4E0NvsSgwp"
      },
      "source": [
        "### 1. Logistic Regression With Numpy (7 points)"
      ]
    },
    {
      "cell_type": "markdown",
      "source": [
        "*Murphy 8.2, 8.3.2; Bishop 3.1.3, 4.3.2*\n",
        "\n",
        "In this exercise, we will implement logistic regression to predict the gender of a person based on their height and weight. We will first do this with regular python and numpy and then introduce [PyTorch](https://pytorch.org/tutorials/beginner/pytorch_with_examples.html), the machine learning package that will be used for the remainder of the class.\n",
        "\n",
        "First, let's import some data."
      ],
      "metadata": {
        "id": "YZpkWyKry1VL"
      }
    },
    {
      "cell_type": "code",
      "metadata": {
        "id": "U9jyHWjF1eOG"
      },
      "source": [
        "import numpy as np\n",
        "import pandas as pd\n",
        "import matplotlib.pyplot as plt\n",
        "\n",
        "import torch"
      ],
      "execution_count": 9,
      "outputs": []
    },
    {
      "cell_type": "code",
      "metadata": {
        "id": "j2cFU4Y_QSTW",
        "colab": {
          "base_uri": "https://localhost:8080/"
        },
        "outputId": "e41bc8bd-cf1a-47b0-ef84-40ab25fcf139"
      },
      "source": [
        "# Import training data\n",
        "# This will donwload the training data to the virtual colab data folder\n",
        "# Colab deletes the stored files every time you close your browser, so make sure to run this cell every time\n",
        "!wget https://raw.githubusercontent.com/johnmyleswhite/ML_for_Hackers/master/02-Exploration/data/01_heights_weights_genders.csv"
      ],
      "execution_count": 10,
      "outputs": [
        {
          "output_type": "stream",
          "name": "stdout",
          "text": [
            "--2022-04-28 15:56:35--  https://raw.githubusercontent.com/johnmyleswhite/ML_for_Hackers/master/02-Exploration/data/01_heights_weights_genders.csv\n",
            "Resolving raw.githubusercontent.com (raw.githubusercontent.com)... 185.199.108.133, 185.199.109.133, 185.199.110.133, ...\n",
            "Connecting to raw.githubusercontent.com (raw.githubusercontent.com)|185.199.108.133|:443... connected.\n",
            "HTTP request sent, awaiting response... 200 OK\n",
            "Length: 418121 (408K) [text/plain]\n",
            "Saving to: ‘01_heights_weights_genders.csv’\n",
            "\n",
            "\r          01_height   0%[                    ]       0  --.-KB/s               \r01_heights_weights_ 100%[===================>] 408.32K  --.-KB/s    in 0.004s  \n",
            "\n",
            "2022-04-28 15:56:35 (109 MB/s) - ‘01_heights_weights_genders.csv’ saved [418121/418121]\n",
            "\n"
          ]
        }
      ]
    },
    {
      "cell_type": "code",
      "metadata": {
        "id": "yIjIQ4ydQTAV",
        "colab": {
          "base_uri": "https://localhost:8080/",
          "height": 458
        },
        "outputId": "1a14adb7-eb31-4706-d2dd-13e79160521f"
      },
      "source": [
        "# Read training data\n",
        "# Now you have access to the label T (0 for Male, 1 for Female), height, and weight for 10,000 data points \n",
        "data = pd.read_csv(\"01_heights_weights_genders.csv\")\n",
        "T = np.array([0. if x=='Male' else 1. for x in data['Gender'].values])\n",
        "H = data['Height'].values\n",
        "W = data['Weight'].values\n",
        "\n",
        "print(H.mean())\n",
        "print(W.mean())\n",
        "data"
      ],
      "execution_count": 11,
      "outputs": [
        {
          "output_type": "stream",
          "name": "stdout",
          "text": [
            "66.36755975482124\n",
            "161.44035683283076\n"
          ]
        },
        {
          "output_type": "execute_result",
          "data": {
            "text/plain": [
              "      Gender     Height      Weight\n",
              "0       Male  73.847017  241.893563\n",
              "1       Male  68.781904  162.310473\n",
              "2       Male  74.110105  212.740856\n",
              "3       Male  71.730978  220.042470\n",
              "4       Male  69.881796  206.349801\n",
              "...      ...        ...         ...\n",
              "9995  Female  66.172652  136.777454\n",
              "9996  Female  67.067155  170.867906\n",
              "9997  Female  63.867992  128.475319\n",
              "9998  Female  69.034243  163.852461\n",
              "9999  Female  61.944246  113.649103\n",
              "\n",
              "[10000 rows x 3 columns]"
            ],
            "text/html": [
              "\n",
              "  <div id=\"df-10d3d2cf-41aa-4518-9b24-a1e0a617004a\">\n",
              "    <div class=\"colab-df-container\">\n",
              "      <div>\n",
              "<style scoped>\n",
              "    .dataframe tbody tr th:only-of-type {\n",
              "        vertical-align: middle;\n",
              "    }\n",
              "\n",
              "    .dataframe tbody tr th {\n",
              "        vertical-align: top;\n",
              "    }\n",
              "\n",
              "    .dataframe thead th {\n",
              "        text-align: right;\n",
              "    }\n",
              "</style>\n",
              "<table border=\"1\" class=\"dataframe\">\n",
              "  <thead>\n",
              "    <tr style=\"text-align: right;\">\n",
              "      <th></th>\n",
              "      <th>Gender</th>\n",
              "      <th>Height</th>\n",
              "      <th>Weight</th>\n",
              "    </tr>\n",
              "  </thead>\n",
              "  <tbody>\n",
              "    <tr>\n",
              "      <th>0</th>\n",
              "      <td>Male</td>\n",
              "      <td>73.847017</td>\n",
              "      <td>241.893563</td>\n",
              "    </tr>\n",
              "    <tr>\n",
              "      <th>1</th>\n",
              "      <td>Male</td>\n",
              "      <td>68.781904</td>\n",
              "      <td>162.310473</td>\n",
              "    </tr>\n",
              "    <tr>\n",
              "      <th>2</th>\n",
              "      <td>Male</td>\n",
              "      <td>74.110105</td>\n",
              "      <td>212.740856</td>\n",
              "    </tr>\n",
              "    <tr>\n",
              "      <th>3</th>\n",
              "      <td>Male</td>\n",
              "      <td>71.730978</td>\n",
              "      <td>220.042470</td>\n",
              "    </tr>\n",
              "    <tr>\n",
              "      <th>4</th>\n",
              "      <td>Male</td>\n",
              "      <td>69.881796</td>\n",
              "      <td>206.349801</td>\n",
              "    </tr>\n",
              "    <tr>\n",
              "      <th>...</th>\n",
              "      <td>...</td>\n",
              "      <td>...</td>\n",
              "      <td>...</td>\n",
              "    </tr>\n",
              "    <tr>\n",
              "      <th>9995</th>\n",
              "      <td>Female</td>\n",
              "      <td>66.172652</td>\n",
              "      <td>136.777454</td>\n",
              "    </tr>\n",
              "    <tr>\n",
              "      <th>9996</th>\n",
              "      <td>Female</td>\n",
              "      <td>67.067155</td>\n",
              "      <td>170.867906</td>\n",
              "    </tr>\n",
              "    <tr>\n",
              "      <th>9997</th>\n",
              "      <td>Female</td>\n",
              "      <td>63.867992</td>\n",
              "      <td>128.475319</td>\n",
              "    </tr>\n",
              "    <tr>\n",
              "      <th>9998</th>\n",
              "      <td>Female</td>\n",
              "      <td>69.034243</td>\n",
              "      <td>163.852461</td>\n",
              "    </tr>\n",
              "    <tr>\n",
              "      <th>9999</th>\n",
              "      <td>Female</td>\n",
              "      <td>61.944246</td>\n",
              "      <td>113.649103</td>\n",
              "    </tr>\n",
              "  </tbody>\n",
              "</table>\n",
              "<p>10000 rows × 3 columns</p>\n",
              "</div>\n",
              "      <button class=\"colab-df-convert\" onclick=\"convertToInteractive('df-10d3d2cf-41aa-4518-9b24-a1e0a617004a')\"\n",
              "              title=\"Convert this dataframe to an interactive table.\"\n",
              "              style=\"display:none;\">\n",
              "        \n",
              "  <svg xmlns=\"http://www.w3.org/2000/svg\" height=\"24px\"viewBox=\"0 0 24 24\"\n",
              "       width=\"24px\">\n",
              "    <path d=\"M0 0h24v24H0V0z\" fill=\"none\"/>\n",
              "    <path d=\"M18.56 5.44l.94 2.06.94-2.06 2.06-.94-2.06-.94-.94-2.06-.94 2.06-2.06.94zm-11 1L8.5 8.5l.94-2.06 2.06-.94-2.06-.94L8.5 2.5l-.94 2.06-2.06.94zm10 10l.94 2.06.94-2.06 2.06-.94-2.06-.94-.94-2.06-.94 2.06-2.06.94z\"/><path d=\"M17.41 7.96l-1.37-1.37c-.4-.4-.92-.59-1.43-.59-.52 0-1.04.2-1.43.59L10.3 9.45l-7.72 7.72c-.78.78-.78 2.05 0 2.83L4 21.41c.39.39.9.59 1.41.59.51 0 1.02-.2 1.41-.59l7.78-7.78 2.81-2.81c.8-.78.8-2.07 0-2.86zM5.41 20L4 18.59l7.72-7.72 1.47 1.35L5.41 20z\"/>\n",
              "  </svg>\n",
              "      </button>\n",
              "      \n",
              "  <style>\n",
              "    .colab-df-container {\n",
              "      display:flex;\n",
              "      flex-wrap:wrap;\n",
              "      gap: 12px;\n",
              "    }\n",
              "\n",
              "    .colab-df-convert {\n",
              "      background-color: #E8F0FE;\n",
              "      border: none;\n",
              "      border-radius: 50%;\n",
              "      cursor: pointer;\n",
              "      display: none;\n",
              "      fill: #1967D2;\n",
              "      height: 32px;\n",
              "      padding: 0 0 0 0;\n",
              "      width: 32px;\n",
              "    }\n",
              "\n",
              "    .colab-df-convert:hover {\n",
              "      background-color: #E2EBFA;\n",
              "      box-shadow: 0px 1px 2px rgba(60, 64, 67, 0.3), 0px 1px 3px 1px rgba(60, 64, 67, 0.15);\n",
              "      fill: #174EA6;\n",
              "    }\n",
              "\n",
              "    [theme=dark] .colab-df-convert {\n",
              "      background-color: #3B4455;\n",
              "      fill: #D2E3FC;\n",
              "    }\n",
              "\n",
              "    [theme=dark] .colab-df-convert:hover {\n",
              "      background-color: #434B5C;\n",
              "      box-shadow: 0px 1px 3px 1px rgba(0, 0, 0, 0.15);\n",
              "      filter: drop-shadow(0px 1px 2px rgba(0, 0, 0, 0.3));\n",
              "      fill: #FFFFFF;\n",
              "    }\n",
              "  </style>\n",
              "\n",
              "      <script>\n",
              "        const buttonEl =\n",
              "          document.querySelector('#df-10d3d2cf-41aa-4518-9b24-a1e0a617004a button.colab-df-convert');\n",
              "        buttonEl.style.display =\n",
              "          google.colab.kernel.accessAllowed ? 'block' : 'none';\n",
              "\n",
              "        async function convertToInteractive(key) {\n",
              "          const element = document.querySelector('#df-10d3d2cf-41aa-4518-9b24-a1e0a617004a');\n",
              "          const dataTable =\n",
              "            await google.colab.kernel.invokeFunction('convertToInteractive',\n",
              "                                                     [key], {});\n",
              "          if (!dataTable) return;\n",
              "\n",
              "          const docLinkHtml = 'Like what you see? Visit the ' +\n",
              "            '<a target=\"_blank\" href=https://colab.research.google.com/notebooks/data_table.ipynb>data table notebook</a>'\n",
              "            + ' to learn more about interactive tables.';\n",
              "          element.innerHTML = '';\n",
              "          dataTable['output_type'] = 'display_data';\n",
              "          await google.colab.output.renderOutput(dataTable, element);\n",
              "          const docLink = document.createElement('div');\n",
              "          docLink.innerHTML = docLinkHtml;\n",
              "          element.appendChild(docLink);\n",
              "        }\n",
              "      </script>\n",
              "    </div>\n",
              "  </div>\n",
              "  "
            ]
          },
          "metadata": {},
          "execution_count": 11
        }
      ]
    },
    {
      "cell_type": "markdown",
      "metadata": {
        "id": "R6mljj-iQZmZ"
      },
      "source": [
        "1. (1 points) $$\\\\ $$  Before we continue, we need to **scale** our data to be in similar ranges. Machine learning algorithms will not work well if the ranges of each dimension are very different. Taking a look at our data, the mean value for height is 66.36 (inches), while the mean for weight is 161 (lbs). These are incompatible and will lead to poor performance. Therefore, before we continue define new variables `H_scaled` and `W_scaled` such that they are [standardized](https://en.wikipedia.org/wiki/Feature_scaling). Also feel free to spend a few minutes reading about other feature scaling options. "
      ]
    },
    {
      "cell_type": "code",
      "metadata": {
        "id": "eK5wtvvJ7tJU",
        "colab": {
          "base_uri": "https://localhost:8080/",
          "height": 423
        },
        "outputId": "7ae384a9-56bb-46e7-cfe7-f91ea1edb902"
      },
      "source": [
        "#H and W standarized\n",
        "H_scaled = (H-H.mean())/np.std(H)\n",
        "W_scaled = (W-W.mean())/np.std(W)\n",
        "\n",
        "data['H-scaled'] = H_scaled\n",
        "data['W-scaled'] = W_scaled\n",
        "\n",
        "data = pd.get_dummies(data)\n",
        "data"
      ],
      "execution_count": 12,
      "outputs": [
        {
          "output_type": "execute_result",
          "data": {
            "text/plain": [
              "         Height      Weight  H-scaled  W-scaled  Gender_Female  Gender_Male\n",
              "0     73.847017  241.893563  1.944061  2.505797              0            1\n",
              "1     68.781904  162.310473  0.627537  0.027101              0            1\n",
              "2     74.110105  212.740856  2.012443  1.597806              0            1\n",
              "3     71.730978  220.042470  1.394060  1.825222              0            1\n",
              "4     69.881796  206.349801  0.913421  1.398750              0            1\n",
              "...         ...         ...       ...       ...            ...          ...\n",
              "9995  66.172652  136.777454 -0.050660 -0.768151              1            0\n",
              "9996  67.067155  170.867906  0.181839  0.293631              1            0\n",
              "9997  63.867992  128.475319 -0.649688 -1.026730              1            0\n",
              "9998  69.034243  163.852461  0.693125  0.075127              1            0\n",
              "9999  61.944246  113.649103 -1.149708 -1.488507              1            0\n",
              "\n",
              "[10000 rows x 6 columns]"
            ],
            "text/html": [
              "\n",
              "  <div id=\"df-972b8e68-69fd-4801-a5c0-55f1aa730f7f\">\n",
              "    <div class=\"colab-df-container\">\n",
              "      <div>\n",
              "<style scoped>\n",
              "    .dataframe tbody tr th:only-of-type {\n",
              "        vertical-align: middle;\n",
              "    }\n",
              "\n",
              "    .dataframe tbody tr th {\n",
              "        vertical-align: top;\n",
              "    }\n",
              "\n",
              "    .dataframe thead th {\n",
              "        text-align: right;\n",
              "    }\n",
              "</style>\n",
              "<table border=\"1\" class=\"dataframe\">\n",
              "  <thead>\n",
              "    <tr style=\"text-align: right;\">\n",
              "      <th></th>\n",
              "      <th>Height</th>\n",
              "      <th>Weight</th>\n",
              "      <th>H-scaled</th>\n",
              "      <th>W-scaled</th>\n",
              "      <th>Gender_Female</th>\n",
              "      <th>Gender_Male</th>\n",
              "    </tr>\n",
              "  </thead>\n",
              "  <tbody>\n",
              "    <tr>\n",
              "      <th>0</th>\n",
              "      <td>73.847017</td>\n",
              "      <td>241.893563</td>\n",
              "      <td>1.944061</td>\n",
              "      <td>2.505797</td>\n",
              "      <td>0</td>\n",
              "      <td>1</td>\n",
              "    </tr>\n",
              "    <tr>\n",
              "      <th>1</th>\n",
              "      <td>68.781904</td>\n",
              "      <td>162.310473</td>\n",
              "      <td>0.627537</td>\n",
              "      <td>0.027101</td>\n",
              "      <td>0</td>\n",
              "      <td>1</td>\n",
              "    </tr>\n",
              "    <tr>\n",
              "      <th>2</th>\n",
              "      <td>74.110105</td>\n",
              "      <td>212.740856</td>\n",
              "      <td>2.012443</td>\n",
              "      <td>1.597806</td>\n",
              "      <td>0</td>\n",
              "      <td>1</td>\n",
              "    </tr>\n",
              "    <tr>\n",
              "      <th>3</th>\n",
              "      <td>71.730978</td>\n",
              "      <td>220.042470</td>\n",
              "      <td>1.394060</td>\n",
              "      <td>1.825222</td>\n",
              "      <td>0</td>\n",
              "      <td>1</td>\n",
              "    </tr>\n",
              "    <tr>\n",
              "      <th>4</th>\n",
              "      <td>69.881796</td>\n",
              "      <td>206.349801</td>\n",
              "      <td>0.913421</td>\n",
              "      <td>1.398750</td>\n",
              "      <td>0</td>\n",
              "      <td>1</td>\n",
              "    </tr>\n",
              "    <tr>\n",
              "      <th>...</th>\n",
              "      <td>...</td>\n",
              "      <td>...</td>\n",
              "      <td>...</td>\n",
              "      <td>...</td>\n",
              "      <td>...</td>\n",
              "      <td>...</td>\n",
              "    </tr>\n",
              "    <tr>\n",
              "      <th>9995</th>\n",
              "      <td>66.172652</td>\n",
              "      <td>136.777454</td>\n",
              "      <td>-0.050660</td>\n",
              "      <td>-0.768151</td>\n",
              "      <td>1</td>\n",
              "      <td>0</td>\n",
              "    </tr>\n",
              "    <tr>\n",
              "      <th>9996</th>\n",
              "      <td>67.067155</td>\n",
              "      <td>170.867906</td>\n",
              "      <td>0.181839</td>\n",
              "      <td>0.293631</td>\n",
              "      <td>1</td>\n",
              "      <td>0</td>\n",
              "    </tr>\n",
              "    <tr>\n",
              "      <th>9997</th>\n",
              "      <td>63.867992</td>\n",
              "      <td>128.475319</td>\n",
              "      <td>-0.649688</td>\n",
              "      <td>-1.026730</td>\n",
              "      <td>1</td>\n",
              "      <td>0</td>\n",
              "    </tr>\n",
              "    <tr>\n",
              "      <th>9998</th>\n",
              "      <td>69.034243</td>\n",
              "      <td>163.852461</td>\n",
              "      <td>0.693125</td>\n",
              "      <td>0.075127</td>\n",
              "      <td>1</td>\n",
              "      <td>0</td>\n",
              "    </tr>\n",
              "    <tr>\n",
              "      <th>9999</th>\n",
              "      <td>61.944246</td>\n",
              "      <td>113.649103</td>\n",
              "      <td>-1.149708</td>\n",
              "      <td>-1.488507</td>\n",
              "      <td>1</td>\n",
              "      <td>0</td>\n",
              "    </tr>\n",
              "  </tbody>\n",
              "</table>\n",
              "<p>10000 rows × 6 columns</p>\n",
              "</div>\n",
              "      <button class=\"colab-df-convert\" onclick=\"convertToInteractive('df-972b8e68-69fd-4801-a5c0-55f1aa730f7f')\"\n",
              "              title=\"Convert this dataframe to an interactive table.\"\n",
              "              style=\"display:none;\">\n",
              "        \n",
              "  <svg xmlns=\"http://www.w3.org/2000/svg\" height=\"24px\"viewBox=\"0 0 24 24\"\n",
              "       width=\"24px\">\n",
              "    <path d=\"M0 0h24v24H0V0z\" fill=\"none\"/>\n",
              "    <path d=\"M18.56 5.44l.94 2.06.94-2.06 2.06-.94-2.06-.94-.94-2.06-.94 2.06-2.06.94zm-11 1L8.5 8.5l.94-2.06 2.06-.94-2.06-.94L8.5 2.5l-.94 2.06-2.06.94zm10 10l.94 2.06.94-2.06 2.06-.94-2.06-.94-.94-2.06-.94 2.06-2.06.94z\"/><path d=\"M17.41 7.96l-1.37-1.37c-.4-.4-.92-.59-1.43-.59-.52 0-1.04.2-1.43.59L10.3 9.45l-7.72 7.72c-.78.78-.78 2.05 0 2.83L4 21.41c.39.39.9.59 1.41.59.51 0 1.02-.2 1.41-.59l7.78-7.78 2.81-2.81c.8-.78.8-2.07 0-2.86zM5.41 20L4 18.59l7.72-7.72 1.47 1.35L5.41 20z\"/>\n",
              "  </svg>\n",
              "      </button>\n",
              "      \n",
              "  <style>\n",
              "    .colab-df-container {\n",
              "      display:flex;\n",
              "      flex-wrap:wrap;\n",
              "      gap: 12px;\n",
              "    }\n",
              "\n",
              "    .colab-df-convert {\n",
              "      background-color: #E8F0FE;\n",
              "      border: none;\n",
              "      border-radius: 50%;\n",
              "      cursor: pointer;\n",
              "      display: none;\n",
              "      fill: #1967D2;\n",
              "      height: 32px;\n",
              "      padding: 0 0 0 0;\n",
              "      width: 32px;\n",
              "    }\n",
              "\n",
              "    .colab-df-convert:hover {\n",
              "      background-color: #E2EBFA;\n",
              "      box-shadow: 0px 1px 2px rgba(60, 64, 67, 0.3), 0px 1px 3px 1px rgba(60, 64, 67, 0.15);\n",
              "      fill: #174EA6;\n",
              "    }\n",
              "\n",
              "    [theme=dark] .colab-df-convert {\n",
              "      background-color: #3B4455;\n",
              "      fill: #D2E3FC;\n",
              "    }\n",
              "\n",
              "    [theme=dark] .colab-df-convert:hover {\n",
              "      background-color: #434B5C;\n",
              "      box-shadow: 0px 1px 3px 1px rgba(0, 0, 0, 0.15);\n",
              "      filter: drop-shadow(0px 1px 2px rgba(0, 0, 0, 0.3));\n",
              "      fill: #FFFFFF;\n",
              "    }\n",
              "  </style>\n",
              "\n",
              "      <script>\n",
              "        const buttonEl =\n",
              "          document.querySelector('#df-972b8e68-69fd-4801-a5c0-55f1aa730f7f button.colab-df-convert');\n",
              "        buttonEl.style.display =\n",
              "          google.colab.kernel.accessAllowed ? 'block' : 'none';\n",
              "\n",
              "        async function convertToInteractive(key) {\n",
              "          const element = document.querySelector('#df-972b8e68-69fd-4801-a5c0-55f1aa730f7f');\n",
              "          const dataTable =\n",
              "            await google.colab.kernel.invokeFunction('convertToInteractive',\n",
              "                                                     [key], {});\n",
              "          if (!dataTable) return;\n",
              "\n",
              "          const docLinkHtml = 'Like what you see? Visit the ' +\n",
              "            '<a target=\"_blank\" href=https://colab.research.google.com/notebooks/data_table.ipynb>data table notebook</a>'\n",
              "            + ' to learn more about interactive tables.';\n",
              "          element.innerHTML = '';\n",
              "          dataTable['output_type'] = 'display_data';\n",
              "          await google.colab.output.renderOutput(dataTable, element);\n",
              "          const docLink = document.createElement('div');\n",
              "          docLink.innerHTML = docLinkHtml;\n",
              "          element.appendChild(docLink);\n",
              "        }\n",
              "      </script>\n",
              "    </div>\n",
              "  </div>\n",
              "  "
            ]
          },
          "metadata": {},
          "execution_count": 12
        }
      ]
    },
    {
      "cell_type": "markdown",
      "metadata": {
        "id": "8InAPrlsQfKD"
      },
      "source": [
        "2. (0.5 points) $$\\\\ $$ Make a scatter plot of your data, showing the label of the data in color.\n"
      ]
    },
    {
      "cell_type": "code",
      "metadata": {
        "id": "zERRfnma7xeU",
        "colab": {
          "base_uri": "https://localhost:8080/",
          "height": 573
        },
        "outputId": "87d82953-d58c-4678-f690-966ce60a7f11"
      },
      "source": [
        "\n",
        "import seaborn as sns\n",
        "#sns.scatterplot(x='H-scaled', y='W-scaled', hue='Gender_Male', data=data, alpha=0.1)\n",
        "plt.scatter(data['H-scaled'], data['Gender_Male'], label='H-scaled')\n",
        "plt.ylabel('1 is man, 0 is female')\n",
        "plt.xlabel('Scaled height')\n",
        "plt.title('The scaled height of men and women')\n",
        "plt.show()\n",
        "\n",
        "plt.scatter(data['W-scaled'], data['Gender_Male'], label='W-scaled')\n",
        "plt.ylabel('1 is man, 0 is female')\n",
        "plt.xlabel('Scaled weight')\n",
        "plt.title('The scaled height of men and women')\n",
        "plt.show()"
      ],
      "execution_count": 36,
      "outputs": [
        {
          "output_type": "display_data",
          "data": {
            "text/plain": [
              "<Figure size 432x288 with 1 Axes>"
            ],
            "image/png": "[encoded data removed]"
          },
          "metadata": {
            "needs_background": "light"
          }
        },
        {
          "output_type": "display_data",
          "data": {
            "text/plain": [
              "<Figure size 432x288 with 1 Axes>"
            ],
            "image/png": "[encoded data removed]"
          },
          "metadata": {
            "needs_background": "light"
          }
        }
      ]
    },
    {
      "cell_type": "markdown",
      "metadata": {
        "id": "0495R52ErMyq"
      },
      "source": [
        "3. (1 points) $$\\\\ $$ Currently, our target vector has shape (N,). However, a subtle point of numpy arrays: they can't be one-dimensional if you want to take dot products, so we need to reshape our target array into an (N,1) shape. Additionally, we need to turn our input values array from the two (N,) arrays into a singular array of shape (N,2), where 2 is the number of features we have. Perform this operation below. "
      ]
    },
    {
      "cell_type": "code",
      "metadata": {
        "id": "x1ta5GzF72fr",
        "colab": {
          "base_uri": "https://localhost:8080/"
        },
        "outputId": "f6ef32e8-f363-4e3f-8f87-a8ee8ba211b8"
      },
      "source": [
        "gender_array = np.array(data['Gender_Male']).reshape((10000,1))\n",
        "\n",
        "W_scaled_array = np.array(data['W-scaled']).reshape((10000,1))\n",
        "H_scaled_array = np.array(data['H-scaled']).reshape((10000,1))\n",
        "H_W_scaled = np.concatenate((W_scaled_array, H_scaled_array), axis=1)\n",
        "H_W_scaled"
      ],
      "execution_count": 14,
      "outputs": [
        {
          "output_type": "execute_result",
          "data": {
            "text/plain": [
              "array([[ 2.50579697,  1.94406149],\n",
              "       [ 0.02710064,  0.62753668],\n",
              "       [ 1.59780623,  2.01244346],\n",
              "       ...,\n",
              "       [-1.02672965, -0.64968792],\n",
              "       [ 0.07512745,  0.69312469],\n",
              "       [-1.48850724, -1.14970831]])"
            ]
          },
          "metadata": {},
          "execution_count": 14
        }
      ]
    },
    {
      "cell_type": "markdown",
      "metadata": {
        "id": "axzPisImQvSd"
      },
      "source": [
        "4. (1. point) $$\\\\ $$ Now we will move onto implementing all that is needed to find an optimal solution for logistic regression using gradient descent.  Remember that our model is defined by\n",
        "$$\n",
        "a_n = \\boldsymbol{w}^T\\boldsymbol{\\phi}_n \\, ,\n",
        "$$\n",
        "$$\n",
        "y_n = \\sigma (a_n) \\, .\n",
        "$$\n",
        "To start, we will need access to our loss function and our sigmoid. In addition, we will need access to our basis functions $\\boldsymbol{\\phi}_n$. In this case, $\\boldsymbol{\\phi}_n = [1, \\boldsymbol{x}_n]$ so that we extend our model to include a bias. Implement these below. "
      ]
    },
    {
      "cell_type": "code",
      "metadata": {
        "id": "cy857jBG8LD8"
      },
      "source": [
        "\n",
        "def sigmoid(x):\n",
        "    return 1/(1+np.exp(-x))\n",
        "\n",
        "def loss(t, y):\n",
        "    #also add small number to avoid log(0)\n",
        "    loss = -(t*np.log(y+0.000001) + (1-t)*np.log(1-y+0.000001))\n",
        "    loss = sum(loss)\n",
        "    return loss\n",
        "\n",
        "def phi(x):\n",
        "    ones = np.ones([len(x),1])\n",
        "    phi = np.concatenate((ones,x),1)\n",
        "    return phi\n",
        "\n"
      ],
      "execution_count": 15,
      "outputs": []
    },
    {
      "cell_type": "markdown",
      "metadata": {
        "id": "CfRCjACIQ4dU"
      },
      "source": [
        "5. (1 point) $$\\\\ $$ Next, we implement our gradient descent. Define a function called `gradient_descent` that takes as input the dataset transformed and in the form of basis $\\boldsymbol{\\phi}$, the target values, the initial values of the parameters $\\boldsymbol{w}$, the number of iterations to perform, and the learning rate. It should return the loss history (the value of the loss at each iteration step) as well as the final value of $\\boldsymbol{w}$. "
      ]
    },
    {
      "cell_type": "code",
      "metadata": {
        "id": "tH26e0qW8Pjr"
      },
      "source": [
        "\n",
        "def gradient_descent(data_set_transformed, gender_array, n_iterations, learning_rate):\n",
        "    w_init= np.random.uniform(size=3)\n",
        "    w=w_init\n",
        "    #print(w)\n",
        "    \n",
        "    losses = np.array([])\n",
        "    for i in range(n_iterations):\n",
        "        print(i)\n",
        "        gradient = 0\n",
        "        Y = np.array([])\n",
        "        for j in range(len(data_set_transformed)):\n",
        "            #print(data_set_transformed[j])\n",
        "            prediction = sigmoid(np.matmul(w.T, data_set_transformed[j]))\n",
        "            gradient += (prediction - gender_array[j]) * data_set_transformed[j]\n",
        "            Y = np.append(Y,prediction)\n",
        "        \n",
        "        w = w - learning_rate * gradient\n",
        "        loss_result = loss(gender_array, prediction)\n",
        "        losses = np.append(losses, loss_result)\n",
        "\n",
        "    return losses\n",
        "\n"
      ],
      "execution_count": 19,
      "outputs": []
    },
    {
      "cell_type": "markdown",
      "metadata": {
        "id": "pT1VqAloQ8Xd"
      },
      "source": [
        "6. (1 points) $$\\\\ $$ Now we have all the building blocks and are ready to train! Below we do a little bit of preprocessing and initialization. Fill in under the instructions below and train your model for 1500 iterations. Experiment a little bit with the value for the learning rate, though a value of  0.0001 is a good starting point."
      ]
    },
    {
      "cell_type": "code",
      "metadata": {
        "id": "gx9tvQRz87Lz",
        "colab": {
          "base_uri": "https://localhost:8080/"
        },
        "outputId": "31d1eacf-72c2-47ea-f4ab-1484f8110821"
      },
      "source": [
        "# Transform X into phi using the function you wrote above\n",
        "data_set_transformed = phi(H_W_scaled)\n",
        "\n",
        "# In order to start gradient descent, we initialize our parameters, typically with small values\n",
        "\n",
        "## Call your gradient_descent function here using the intiailizations from above\n",
        "\n",
        "\n",
        "n_iterations=1500\n",
        "learning_rate =0.0001 \n",
        "losses = gradient_descent(data_set_transformed, gender_array, n_iterations, learning_rate)\n",
        "print(losses)\n"
      ],
      "execution_count": 37,
      "outputs": [
        {
          "output_type": "stream",
          "name": "stdout",
          "text": [
            "0\n",
            "1\n",
            "2\n",
            "3\n",
            "4\n",
            "5\n",
            "6\n",
            "7\n",
            "8\n",
            "9\n",
            "10\n",
            "11\n",
            "12\n",
            "13\n",
            "14\n",
            "15\n",
            "16\n",
            "17\n",
            "18\n",
            "19\n",
            "20\n",
            "21\n",
            "22\n",
            "23\n",
            "24\n",
            "25\n",
            "26\n",
            "27\n",
            "28\n",
            "29\n",
            "30\n",
            "31\n",
            "32\n",
            "33\n",
            "34\n",
            "35\n",
            "36\n",
            "37\n",
            "38\n",
            "39\n",
            "40\n",
            "41\n",
            "42\n",
            "43\n",
            "44\n",
            "45\n",
            "46\n",
            "47\n",
            "48\n",
            "49\n",
            "50\n",
            "51\n",
            "52\n",
            "53\n",
            "54\n",
            "55\n",
            "56\n",
            "57\n",
            "58\n",
            "59\n",
            "60\n",
            "61\n",
            "62\n",
            "63\n",
            "64\n",
            "65\n",
            "66\n",
            "67\n",
            "68\n",
            "69\n",
            "70\n",
            "71\n",
            "72\n",
            "73\n",
            "74\n",
            "75\n",
            "76\n",
            "77\n",
            "78\n",
            "79\n",
            "80\n",
            "81\n",
            "82\n",
            "83\n",
            "84\n",
            "85\n",
            "86\n",
            "87\n",
            "88\n",
            "89\n",
            "90\n",
            "91\n",
            "92\n",
            "93\n",
            "94\n",
            "95\n",
            "96\n",
            "97\n",
            "98\n",
            "99\n",
            "100\n",
            "101\n",
            "102\n",
            "103\n",
            "104\n",
            "105\n",
            "106\n",
            "107\n",
            "108\n",
            "109\n",
            "110\n",
            "111\n",
            "112\n",
            "113\n",
            "114\n",
            "115\n",
            "116\n",
            "117\n",
            "118\n",
            "119\n",
            "120\n",
            "121\n",
            "122\n",
            "123\n",
            "124\n",
            "125\n",
            "126\n",
            "127\n",
            "128\n",
            "129\n",
            "130\n",
            "131\n",
            "132\n",
            "133\n",
            "134\n",
            "135\n",
            "136\n",
            "137\n",
            "138\n",
            "139\n",
            "140\n",
            "141\n",
            "142\n",
            "143\n",
            "144\n",
            "145\n",
            "146\n",
            "147\n",
            "148\n",
            "149\n",
            "150\n",
            "151\n",
            "152\n",
            "153\n",
            "154\n",
            "155\n",
            "156\n",
            "157\n",
            "158\n",
            "159\n",
            "160\n",
            "161\n",
            "162\n",
            "163\n",
            "164\n",
            "165\n",
            "166\n",
            "167\n",
            "168\n",
            "169\n",
            "170\n",
            "171\n",
            "172\n",
            "173\n",
            "174\n",
            "175\n",
            "176\n",
            "177\n",
            "178\n",
            "179\n",
            "180\n",
            "181\n",
            "182\n",
            "183\n",
            "184\n",
            "185\n",
            "186\n",
            "187\n",
            "188\n",
            "189\n",
            "190\n",
            "191\n",
            "192\n",
            "193\n",
            "194\n",
            "195\n",
            "196\n",
            "197\n",
            "198\n",
            "199\n",
            "200\n",
            "201\n",
            "202\n",
            "203\n",
            "204\n",
            "205\n",
            "206\n",
            "207\n",
            "208\n",
            "209\n",
            "210\n",
            "211\n",
            "212\n",
            "213\n",
            "214\n",
            "215\n",
            "216\n",
            "217\n",
            "218\n",
            "219\n",
            "220\n",
            "221\n",
            "222\n",
            "223\n",
            "224\n",
            "225\n",
            "226\n",
            "227\n",
            "228\n",
            "229\n",
            "230\n",
            "231\n",
            "232\n",
            "233\n",
            "234\n",
            "235\n",
            "236\n",
            "237\n",
            "238\n",
            "239\n",
            "240\n",
            "241\n",
            "242\n",
            "243\n",
            "244\n",
            "245\n",
            "246\n",
            "247\n",
            "248\n",
            "249\n",
            "250\n",
            "251\n",
            "252\n",
            "253\n",
            "254\n",
            "255\n",
            "256\n",
            "257\n",
            "258\n",
            "259\n",
            "260\n",
            "261\n",
            "262\n",
            "263\n",
            "264\n",
            "265\n",
            "266\n",
            "267\n",
            "268\n",
            "269\n",
            "270\n",
            "271\n",
            "272\n",
            "273\n",
            "274\n",
            "275\n",
            "276\n",
            "277\n",
            "278\n",
            "279\n",
            "280\n",
            "281\n",
            "282\n",
            "283\n",
            "284\n",
            "285\n",
            "286\n",
            "287\n",
            "288\n",
            "289\n",
            "290\n",
            "291\n",
            "292\n",
            "293\n",
            "294\n",
            "295\n",
            "296\n",
            "297\n",
            "298\n",
            "299\n",
            "300\n",
            "301\n",
            "302\n",
            "303\n",
            "304\n",
            "305\n",
            "306\n",
            "307\n",
            "308\n",
            "309\n",
            "310\n",
            "311\n",
            "312\n",
            "313\n",
            "314\n",
            "315\n",
            "316\n",
            "317\n",
            "318\n",
            "319\n",
            "320\n",
            "321\n",
            "322\n",
            "323\n",
            "324\n",
            "325\n",
            "326\n",
            "327\n",
            "328\n",
            "329\n",
            "330\n",
            "331\n",
            "332\n",
            "333\n",
            "334\n",
            "335\n",
            "336\n",
            "337\n",
            "338\n",
            "339\n",
            "340\n",
            "341\n",
            "342\n",
            "343\n",
            "344\n",
            "345\n",
            "346\n",
            "347\n",
            "348\n",
            "349\n",
            "350\n",
            "351\n",
            "352\n",
            "353\n",
            "354\n",
            "355\n",
            "356\n",
            "357\n",
            "358\n",
            "359\n",
            "360\n",
            "361\n",
            "362\n",
            "363\n",
            "364\n",
            "365\n",
            "366\n",
            "367\n",
            "368\n",
            "369\n",
            "370\n",
            "371\n",
            "372\n",
            "373\n",
            "374\n",
            "375\n",
            "376\n",
            "377\n",
            "378\n",
            "379\n",
            "380\n",
            "381\n",
            "382\n",
            "383\n",
            "384\n",
            "385\n",
            "386\n",
            "387\n",
            "388\n",
            "389\n",
            "390\n",
            "391\n",
            "392\n",
            "393\n",
            "394\n",
            "395\n",
            "396\n",
            "397\n",
            "398\n",
            "399\n",
            "400\n",
            "401\n",
            "402\n",
            "403\n",
            "404\n",
            "405\n",
            "406\n",
            "407\n",
            "408\n",
            "409\n",
            "410\n",
            "411\n",
            "412\n",
            "413\n",
            "414\n",
            "415\n",
            "416\n",
            "417\n",
            "418\n",
            "419\n",
            "420\n",
            "421\n",
            "422\n",
            "423\n",
            "424\n",
            "425\n",
            "426\n",
            "427\n",
            "428\n",
            "429\n",
            "430\n",
            "431\n",
            "432\n",
            "433\n",
            "434\n",
            "435\n",
            "436\n",
            "437\n",
            "438\n",
            "439\n",
            "440\n",
            "441\n",
            "442\n",
            "443\n",
            "444\n",
            "445\n",
            "446\n",
            "447\n",
            "448\n",
            "449\n",
            "450\n",
            "451\n",
            "452\n",
            "453\n",
            "454\n",
            "455\n",
            "456\n",
            "457\n",
            "458\n",
            "459\n",
            "460\n",
            "461\n",
            "462\n",
            "463\n",
            "464\n",
            "465\n",
            "466\n",
            "467\n",
            "468\n",
            "469\n",
            "470\n",
            "471\n",
            "472\n",
            "473\n",
            "474\n",
            "475\n",
            "476\n",
            "477\n",
            "478\n",
            "479\n",
            "480\n",
            "481\n",
            "482\n",
            "483\n",
            "484\n",
            "485\n",
            "486\n",
            "487\n",
            "488\n",
            "489\n",
            "490\n",
            "491\n",
            "492\n",
            "493\n",
            "494\n",
            "495\n",
            "496\n",
            "497\n",
            "498\n",
            "499\n",
            "500\n",
            "501\n",
            "502\n",
            "503\n",
            "504\n",
            "505\n",
            "506\n",
            "507\n",
            "508\n",
            "509\n",
            "510\n",
            "511\n",
            "512\n",
            "513\n",
            "514\n",
            "515\n",
            "516\n",
            "517\n",
            "518\n",
            "519\n",
            "520\n",
            "521\n",
            "522\n",
            "523\n",
            "524\n",
            "525\n",
            "526\n",
            "527\n",
            "528\n",
            "529\n",
            "530\n",
            "531\n",
            "532\n",
            "533\n",
            "534\n",
            "535\n",
            "536\n",
            "537\n",
            "538\n",
            "539\n",
            "540\n",
            "541\n",
            "542\n",
            "543\n",
            "544\n",
            "545\n",
            "546\n",
            "547\n",
            "548\n",
            "549\n",
            "550\n",
            "551\n",
            "552\n",
            "553\n",
            "554\n",
            "555\n",
            "556\n",
            "557\n",
            "558\n",
            "559\n",
            "560\n",
            "561\n",
            "562\n",
            "563\n",
            "564\n",
            "565\n",
            "566\n",
            "567\n",
            "568\n",
            "569\n",
            "570\n",
            "571\n",
            "572\n",
            "573\n",
            "574\n",
            "575\n",
            "576\n",
            "577\n",
            "578\n",
            "579\n",
            "580\n",
            "581\n",
            "582\n",
            "583\n",
            "584\n",
            "585\n",
            "586\n",
            "587\n",
            "588\n",
            "589\n",
            "590\n",
            "591\n",
            "592\n",
            "593\n",
            "594\n",
            "595\n",
            "596\n",
            "597\n",
            "598\n",
            "599\n",
            "600\n",
            "601\n",
            "602\n",
            "603\n",
            "604\n",
            "605\n",
            "606\n",
            "607\n",
            "608\n",
            "609\n",
            "610\n",
            "611\n",
            "612\n",
            "613\n",
            "614\n",
            "615\n",
            "616\n",
            "617\n",
            "618\n",
            "619\n",
            "620\n",
            "621\n",
            "622\n",
            "623\n",
            "624\n",
            "625\n",
            "626\n",
            "627\n",
            "628\n",
            "629\n",
            "630\n",
            "631\n",
            "632\n",
            "633\n",
            "634\n",
            "635\n",
            "636\n",
            "637\n",
            "638\n",
            "639\n",
            "640\n",
            "641\n",
            "642\n",
            "643\n",
            "644\n",
            "645\n",
            "646\n",
            "647\n",
            "648\n",
            "649\n",
            "650\n",
            "651\n",
            "652\n",
            "653\n",
            "654\n",
            "655\n",
            "656\n",
            "657\n",
            "658\n",
            "659\n",
            "660\n",
            "661\n",
            "662\n",
            "663\n",
            "664\n",
            "665\n",
            "666\n",
            "667\n",
            "668\n",
            "669\n",
            "670\n",
            "671\n",
            "672\n",
            "673\n",
            "674\n",
            "675\n",
            "676\n",
            "677\n",
            "678\n",
            "679\n",
            "680\n",
            "681\n",
            "682\n",
            "683\n",
            "684\n",
            "685\n",
            "686\n",
            "687\n",
            "688\n",
            "689\n",
            "690\n",
            "691\n",
            "692\n",
            "693\n",
            "694\n",
            "695\n",
            "696\n",
            "697\n",
            "698\n",
            "699\n",
            "700\n",
            "701\n",
            "702\n",
            "703\n",
            "704\n",
            "705\n",
            "706\n",
            "707\n",
            "708\n",
            "709\n",
            "710\n",
            "711\n",
            "712\n",
            "713\n",
            "714\n",
            "715\n",
            "716\n",
            "717\n",
            "718\n",
            "719\n",
            "720\n",
            "721\n",
            "722\n",
            "723\n",
            "724\n",
            "725\n",
            "726\n",
            "727\n",
            "728\n",
            "729\n",
            "730\n",
            "731\n",
            "732\n",
            "733\n",
            "734\n",
            "735\n",
            "736\n",
            "737\n",
            "738\n",
            "739\n",
            "740\n",
            "741\n",
            "742\n",
            "743\n",
            "744\n",
            "745\n",
            "746\n",
            "747\n",
            "748\n",
            "749\n",
            "750\n",
            "751\n",
            "752\n",
            "753\n",
            "754\n",
            "755\n",
            "756\n",
            "757\n",
            "758\n",
            "759\n",
            "760\n",
            "761\n",
            "762\n",
            "763\n",
            "764\n",
            "765\n",
            "766\n",
            "767\n",
            "768\n",
            "769\n",
            "770\n",
            "771\n",
            "772\n",
            "773\n",
            "774\n",
            "775\n",
            "776\n",
            "777\n",
            "778\n",
            "779\n",
            "780\n",
            "781\n",
            "782\n",
            "783\n",
            "784\n",
            "785\n",
            "786\n",
            "787\n",
            "788\n",
            "789\n",
            "790\n",
            "791\n",
            "792\n",
            "793\n",
            "794\n",
            "795\n",
            "796\n",
            "797\n",
            "798\n",
            "799\n",
            "800\n",
            "801\n",
            "802\n",
            "803\n",
            "804\n",
            "805\n",
            "806\n",
            "807\n",
            "808\n",
            "809\n",
            "810\n",
            "811\n",
            "812\n",
            "813\n",
            "814\n",
            "815\n",
            "816\n",
            "817\n",
            "818\n",
            "819\n",
            "820\n",
            "821\n",
            "822\n",
            "823\n",
            "824\n",
            "825\n",
            "826\n",
            "827\n",
            "828\n",
            "829\n",
            "830\n",
            "831\n",
            "832\n",
            "833\n",
            "834\n",
            "835\n",
            "836\n",
            "837\n",
            "838\n",
            "839\n",
            "840\n",
            "841\n",
            "842\n",
            "843\n",
            "844\n",
            "845\n",
            "846\n",
            "847\n",
            "848\n",
            "849\n",
            "850\n",
            "851\n",
            "852\n",
            "853\n",
            "854\n",
            "855\n",
            "856\n",
            "857\n",
            "858\n",
            "859\n",
            "860\n",
            "861\n",
            "862\n",
            "863\n",
            "864\n",
            "865\n",
            "866\n",
            "867\n",
            "868\n",
            "869\n",
            "870\n",
            "871\n",
            "872\n",
            "873\n",
            "874\n",
            "875\n",
            "876\n",
            "877\n",
            "878\n",
            "879\n",
            "880\n",
            "881\n",
            "882\n",
            "883\n",
            "884\n",
            "885\n",
            "886\n",
            "887\n",
            "888\n",
            "889\n",
            "890\n",
            "891\n",
            "892\n",
            "893\n",
            "894\n",
            "895\n",
            "896\n",
            "897\n",
            "898\n",
            "899\n",
            "900\n",
            "901\n",
            "902\n",
            "903\n",
            "904\n",
            "905\n",
            "906\n",
            "907\n",
            "908\n",
            "909\n",
            "910\n",
            "911\n",
            "912\n",
            "913\n",
            "914\n",
            "915\n",
            "916\n",
            "917\n",
            "918\n",
            "919\n",
            "920\n",
            "921\n",
            "922\n",
            "923\n",
            "924\n",
            "925\n",
            "926\n",
            "927\n",
            "928\n",
            "929\n",
            "930\n",
            "931\n",
            "932\n",
            "933\n",
            "934\n",
            "935\n",
            "936\n",
            "937\n",
            "938\n",
            "939\n",
            "940\n",
            "941\n",
            "942\n",
            "943\n",
            "944\n",
            "945\n",
            "946\n",
            "947\n",
            "948\n",
            "949\n",
            "950\n",
            "951\n",
            "952\n",
            "953\n",
            "954\n",
            "955\n",
            "956\n",
            "957\n",
            "958\n",
            "959\n",
            "960\n",
            "961\n",
            "962\n",
            "963\n",
            "964\n",
            "965\n",
            "966\n",
            "967\n",
            "968\n",
            "969\n",
            "970\n",
            "971\n",
            "972\n",
            "973\n",
            "974\n",
            "975\n",
            "976\n",
            "977\n",
            "978\n",
            "979\n",
            "980\n",
            "981\n",
            "982\n",
            "983\n",
            "984\n",
            "985\n",
            "986\n",
            "987\n",
            "988\n",
            "989\n",
            "990\n",
            "991\n",
            "992\n",
            "993\n",
            "994\n",
            "995\n",
            "996\n",
            "997\n",
            "998\n",
            "999\n",
            "1000\n",
            "1001\n",
            "1002\n",
            "1003\n",
            "1004\n",
            "1005\n",
            "1006\n",
            "1007\n",
            "1008\n",
            "1009\n",
            "1010\n",
            "1011\n",
            "1012\n",
            "1013\n",
            "1014\n",
            "1015\n",
            "1016\n",
            "1017\n",
            "1018\n",
            "1019\n",
            "1020\n",
            "1021\n",
            "1022\n",
            "1023\n",
            "1024\n",
            "1025\n",
            "1026\n",
            "1027\n",
            "1028\n",
            "1029\n",
            "1030\n",
            "1031\n",
            "1032\n",
            "1033\n",
            "1034\n",
            "1035\n",
            "1036\n",
            "1037\n",
            "1038\n",
            "1039\n",
            "1040\n",
            "1041\n",
            "1042\n",
            "1043\n",
            "1044\n",
            "1045\n",
            "1046\n",
            "1047\n",
            "1048\n",
            "1049\n",
            "1050\n",
            "1051\n",
            "1052\n",
            "1053\n",
            "1054\n",
            "1055\n",
            "1056\n",
            "1057\n",
            "1058\n",
            "1059\n",
            "1060\n",
            "1061\n",
            "1062\n",
            "1063\n",
            "1064\n",
            "1065\n",
            "1066\n",
            "1067\n",
            "1068\n",
            "1069\n",
            "1070\n",
            "1071\n",
            "1072\n",
            "1073\n",
            "1074\n",
            "1075\n",
            "1076\n",
            "1077\n",
            "1078\n",
            "1079\n",
            "1080\n",
            "1081\n",
            "1082\n",
            "1083\n",
            "1084\n",
            "1085\n",
            "1086\n",
            "1087\n",
            "1088\n",
            "1089\n",
            "1090\n",
            "1091\n",
            "1092\n",
            "1093\n",
            "1094\n",
            "1095\n",
            "1096\n",
            "1097\n",
            "1098\n",
            "1099\n",
            "1100\n",
            "1101\n",
            "1102\n",
            "1103\n",
            "1104\n",
            "1105\n",
            "1106\n",
            "1107\n",
            "1108\n",
            "1109\n",
            "1110\n",
            "1111\n",
            "1112\n",
            "1113\n",
            "1114\n",
            "1115\n",
            "1116\n",
            "1117\n",
            "1118\n",
            "1119\n",
            "1120\n",
            "1121\n",
            "1122\n",
            "1123\n",
            "1124\n",
            "1125\n",
            "1126\n",
            "1127\n",
            "1128\n",
            "1129\n",
            "1130\n",
            "1131\n",
            "1132\n",
            "1133\n",
            "1134\n",
            "1135\n",
            "1136\n",
            "1137\n",
            "1138\n",
            "1139\n",
            "1140\n",
            "1141\n",
            "1142\n",
            "1143\n",
            "1144\n",
            "1145\n",
            "1146\n",
            "1147\n",
            "1148\n",
            "1149\n",
            "1150\n",
            "1151\n",
            "1152\n",
            "1153\n",
            "1154\n",
            "1155\n",
            "1156\n",
            "1157\n",
            "1158\n",
            "1159\n",
            "1160\n",
            "1161\n",
            "1162\n",
            "1163\n",
            "1164\n",
            "1165\n",
            "1166\n",
            "1167\n",
            "1168\n",
            "1169\n",
            "1170\n",
            "1171\n",
            "1172\n",
            "1173\n",
            "1174\n",
            "1175\n",
            "1176\n",
            "1177\n",
            "1178\n",
            "1179\n",
            "1180\n",
            "1181\n",
            "1182\n",
            "1183\n",
            "1184\n",
            "1185\n",
            "1186\n",
            "1187\n",
            "1188\n",
            "1189\n",
            "1190\n",
            "1191\n",
            "1192\n",
            "1193\n",
            "1194\n",
            "1195\n",
            "1196\n",
            "1197\n",
            "1198\n",
            "1199\n",
            "1200\n",
            "1201\n",
            "1202\n",
            "1203\n",
            "1204\n",
            "1205\n",
            "1206\n",
            "1207\n",
            "1208\n",
            "1209\n",
            "1210\n",
            "1211\n",
            "1212\n",
            "1213\n",
            "1214\n",
            "1215\n",
            "1216\n",
            "1217\n",
            "1218\n",
            "1219\n",
            "1220\n",
            "1221\n",
            "1222\n",
            "1223\n",
            "1224\n",
            "1225\n",
            "1226\n",
            "1227\n",
            "1228\n",
            "1229\n",
            "1230\n",
            "1231\n",
            "1232\n",
            "1233\n",
            "1234\n",
            "1235\n",
            "1236\n",
            "1237\n",
            "1238\n",
            "1239\n",
            "1240\n",
            "1241\n",
            "1242\n",
            "1243\n",
            "1244\n",
            "1245\n",
            "1246\n",
            "1247\n",
            "1248\n",
            "1249\n",
            "1250\n",
            "1251\n",
            "1252\n",
            "1253\n",
            "1254\n",
            "1255\n",
            "1256\n",
            "1257\n",
            "1258\n",
            "1259\n",
            "1260\n",
            "1261\n",
            "1262\n",
            "1263\n",
            "1264\n",
            "1265\n",
            "1266\n",
            "1267\n",
            "1268\n",
            "1269\n",
            "1270\n",
            "1271\n",
            "1272\n",
            "1273\n",
            "1274\n",
            "1275\n",
            "1276\n",
            "1277\n",
            "1278\n",
            "1279\n",
            "1280\n",
            "1281\n",
            "1282\n",
            "1283\n",
            "1284\n",
            "1285\n",
            "1286\n",
            "1287\n",
            "1288\n",
            "1289\n",
            "1290\n",
            "1291\n",
            "1292\n",
            "1293\n",
            "1294\n",
            "1295\n",
            "1296\n",
            "1297\n",
            "1298\n",
            "1299\n",
            "1300\n",
            "1301\n",
            "1302\n",
            "1303\n",
            "1304\n",
            "1305\n",
            "1306\n",
            "1307\n",
            "1308\n",
            "1309\n",
            "1310\n",
            "1311\n",
            "1312\n",
            "1313\n",
            "1314\n",
            "1315\n",
            "1316\n",
            "1317\n",
            "1318\n",
            "1319\n",
            "1320\n",
            "1321\n",
            "1322\n",
            "1323\n",
            "1324\n",
            "1325\n",
            "1326\n",
            "1327\n",
            "1328\n",
            "1329\n",
            "1330\n",
            "1331\n",
            "1332\n",
            "1333\n",
            "1334\n",
            "1335\n",
            "1336\n",
            "1337\n",
            "1338\n",
            "1339\n",
            "1340\n",
            "1341\n",
            "1342\n",
            "1343\n",
            "1344\n",
            "1345\n",
            "1346\n",
            "1347\n",
            "1348\n",
            "1349\n",
            "1350\n",
            "1351\n",
            "1352\n",
            "1353\n",
            "1354\n",
            "1355\n",
            "1356\n",
            "1357\n",
            "1358\n",
            "1359\n",
            "1360\n",
            "1361\n",
            "1362\n",
            "1363\n",
            "1364\n",
            "1365\n",
            "1366\n",
            "1367\n",
            "1368\n",
            "1369\n",
            "1370\n",
            "1371\n",
            "1372\n",
            "1373\n",
            "1374\n",
            "1375\n",
            "1376\n",
            "1377\n",
            "1378\n",
            "1379\n",
            "1380\n",
            "1381\n",
            "1382\n",
            "1383\n",
            "1384\n",
            "1385\n",
            "1386\n",
            "1387\n",
            "1388\n",
            "1389\n",
            "1390\n",
            "1391\n",
            "1392\n",
            "1393\n",
            "1394\n",
            "1395\n",
            "1396\n",
            "1397\n",
            "1398\n",
            "1399\n",
            "1400\n",
            "1401\n",
            "1402\n",
            "1403\n",
            "1404\n",
            "1405\n",
            "1406\n",
            "1407\n",
            "1408\n",
            "1409\n",
            "1410\n",
            "1411\n",
            "1412\n",
            "1413\n",
            "1414\n",
            "1415\n",
            "1416\n",
            "1417\n",
            "1418\n",
            "1419\n",
            "1420\n",
            "1421\n",
            "1422\n",
            "1423\n",
            "1424\n",
            "1425\n",
            "1426\n",
            "1427\n",
            "1428\n",
            "1429\n",
            "1430\n",
            "1431\n",
            "1432\n",
            "1433\n",
            "1434\n",
            "1435\n",
            "1436\n",
            "1437\n",
            "1438\n",
            "1439\n",
            "1440\n",
            "1441\n",
            "1442\n",
            "1443\n",
            "1444\n",
            "1445\n",
            "1446\n",
            "1447\n",
            "1448\n",
            "1449\n",
            "1450\n",
            "1451\n",
            "1452\n",
            "1453\n",
            "1454\n",
            "1455\n",
            "1456\n",
            "1457\n",
            "1458\n",
            "1459\n",
            "1460\n",
            "1461\n",
            "1462\n",
            "1463\n",
            "1464\n",
            "1465\n",
            "1466\n",
            "1467\n",
            "1468\n",
            "1469\n",
            "1470\n",
            "1471\n",
            "1472\n",
            "1473\n",
            "1474\n",
            "1475\n",
            "1476\n",
            "1477\n",
            "1478\n",
            "1479\n",
            "1480\n",
            "1481\n",
            "1482\n",
            "1483\n",
            "1484\n",
            "1485\n",
            "1486\n",
            "1487\n",
            "1488\n",
            "1489\n",
            "1490\n",
            "1491\n",
            "1492\n",
            "1493\n",
            "1494\n",
            "1495\n",
            "1496\n",
            "1497\n",
            "1498\n",
            "1499\n",
            "[ 7023.05821571  8267.0915986   9685.35053443 ... 36167.42416931\n",
            " 36167.90116365 36168.37683869]\n"
          ]
        }
      ]
    },
    {
      "cell_type": "markdown",
      "metadata": {
        "id": "kFZo_faaQ_aK"
      },
      "source": [
        "7. (0.5 points) $$\\\\ $$ Plot your loss as a function of iteration. Have the values of the weights converged yet? How can you tell?"
      ]
    },
    {
      "cell_type": "code",
      "metadata": {
        "id": "-j2sd2pa9YeU",
        "colab": {
          "base_uri": "https://localhost:8080/",
          "height": 330
        },
        "outputId": "df6e69c2-f9db-4f93-8485-3ca8e5f85948"
      },
      "source": [
        "n_it = np.arange(len(losses))\n",
        "print(n_it)\n",
        "plt.plot(n_it,losses)\n",
        "plt.title('Loses of the logistic regression using gradient descent')\n",
        "plt.xlabel('iterations of the gradient descent')\n",
        "plt.ylabel('cross-entropy error')"
      ],
      "execution_count": 42,
      "outputs": [
        {
          "output_type": "stream",
          "name": "stdout",
          "text": [
            "[   0    1    2 ... 1497 1498 1499]\n"
          ]
        },
        {
          "output_type": "execute_result",
          "data": {
            "text/plain": [
              "Text(0, 0.5, 'cross-entropy error')"
            ]
          },
          "metadata": {},
          "execution_count": 42
        },
        {
          "output_type": "display_data",
          "data": {
            "text/plain": [
              "<Figure size 432x288 with 1 Axes>"
            ],
            "image/png": "[encoded data removed]"
          },
          "metadata": {
            "needs_background": "light"
          }
        }
      ]
    },
    {
      "cell_type": "markdown",
      "source": [
        "Plot your loss as a function of iteration. Have the values of the weights converged yet? How can you tell?\n",
        "\n",
        "No did not convergence, since the result of the cross entropy function is only increasing, while you would expect that it would decrease. Something seems to be not correct."
      ],
      "metadata": {
        "id": "LflDQb0mBnDm"
      }
    },
    {
      "cell_type": "markdown",
      "metadata": {
        "id": "HIVkLjGgRGMr"
      },
      "source": [
        "8. (1 points) $$\\\\ $$ Make a scatter plot of your data, but now showing the output of your logistic regression model as the output."
      ]
    },
    {
      "cell_type": "code",
      "metadata": {
        "id": "o9ur_OqC9boM"
      },
      "source": [
        "#Your code here"
      ],
      "execution_count": null,
      "outputs": []
    },
    {
      "cell_type": "markdown",
      "metadata": {
        "id": "tUo3K2EaRKX4"
      },
      "source": [
        "### 2. Logistic Regression With Pytorch (no points, but please read as it is relevant for MLPs later)"
      ]
    },
    {
      "cell_type": "markdown",
      "source": [
        "Numpy is a great framework for general scientific computing, but it cannot utilize GPUs to accelerate numerical computations nor is it ideal for machine learning specific tasks. We will therefore use Pytorch, a widely used deep learning package. In fact, logistic regression can be seen as the minimal example of a neural network: it consist of a single neuron with a sigmoid activation function. You will learn more about neural networks later in the course. \\\\\n",
        "The most important basic concept is that a Pytorch tensor is the same as a numpy array. In this worked out example we will implement logistic regression in Pytorch in the setting of the previous exercise. You are ecouraged to run the following example and examine carefully each step as this will be an important reference to the next exercises. The following basic [tutorials](https://pytorch.org/tutorials/beginner/pytorch_with_examples.html) might be helpful to better understand Pytorch.\n",
        "\n",
        "To train any Pytorch ML model, we need four things: a model definition, a criterion (a loss function), an optimizer (gradient descent for now; we will talk about other optimizers later), and a training routine.\n",
        "\n",
        "First let's define the model, which we write as a class that inherits from `torch.nn.Module`. We will need one [linear](https://pytorch.org/docs/stable/nn.html#torch.nn.Linear) layer. Skim the Linear layer reference material. This time we do not need to worry about implementing basis functions, since the `torch.nn.Linear()` does this for us. The `forward` function simply computes the value of the prediction `y` given the model parameters. We will talk about why this is called \"forward\" later in the course."
      ],
      "metadata": {
        "id": "Vcsb80hwyg1S"
      }
    },
    {
      "cell_type": "code",
      "metadata": {
        "id": "Fps-PROgRJRF"
      },
      "source": [
        "class LogisticRegression(torch.nn.Module):\n",
        "    def __init__(self):\n",
        "        super(LogisticRegression, self).__init__()\n",
        "        self.linear = torch.nn.Linear(2,1)\n",
        "\n",
        "    def forward(self,x):\n",
        "        y = torch.sigmoid(self.linear(x))\n",
        "        return y"
      ],
      "execution_count": null,
      "outputs": []
    },
    {
      "cell_type": "markdown",
      "metadata": {
        "id": "e0HziQdcRmGn"
      },
      "source": [
        "Defining the criterion and optimizer is a little bit easier because there are quite a few standard ones. Use the built-in torch functions to define a binary cross-entropy loss. \\\\\n",
        "We implement batch gradient descent through torch.optim.SGD. This will implement gradient descent on the batch the model receives, since we are passing the whole dataset at once there is nothing stochastic in our case.\n",
        "\n"
      ]
    },
    {
      "cell_type": "code",
      "metadata": {
        "id": "6OGpIi6YRj28"
      },
      "source": [
        "model = LogisticRegression()\n",
        "criterion = torch.nn.BCELoss()\n",
        "optimizer = torch.optim.SGD(model.parameters(), lr=0.01)"
      ],
      "execution_count": null,
      "outputs": []
    },
    {
      "cell_type": "markdown",
      "metadata": {
        "id": "oq8kteEERry9"
      },
      "source": [
        "Everything in torch needs to be a tensor - *including our dataset.*"
      ]
    },
    {
      "cell_type": "code",
      "metadata": {
        "id": "5HlfagOeRo2Y"
      },
      "source": [
        "X_tensor = torch.from_numpy(X).to(torch.float)\n",
        "T_tensor = torch.from_numpy(T).to(torch.float)"
      ],
      "execution_count": null,
      "outputs": []
    },
    {
      "cell_type": "markdown",
      "metadata": {
        "id": "FcDrjXtbRv8z"
      },
      "source": [
        "Now let's define the training routine. A key point about Pytorch is that it has two modes: training and evaluation. In training mode, the parameters of the model are allowed to be iteratively changed. In evaluation mode, they are fixed. Whenever you are plotting or calling the model to make predictions, make sure to call `model.eval()` beforehand. Before training, call `model.train()`. \n",
        "\n",
        "`model.train()` is the first step in the training routine. \n",
        "Then, we define a loop that does the following things:\n",
        "\n",
        "- Zero's the gradient. This is important because the gradient of the loss function is what is updating our model weights. We don't want this to be accidentally doing weird things and then the wrong values update our weights.\n",
        "- Call the model on our X values to make predictions.\n",
        "- Evaluate the predictions using the loss.\n",
        "- Evaluate the gradient of the loss (this is known as the *backward* pass; we will discuss why this is called this when we get to neural networks).\n",
        "- Take an optimizer step."
      ]
    },
    {
      "cell_type": "code",
      "metadata": {
        "id": "Cfck-H-oRtH7"
      },
      "source": [
        "model.train()\n",
        "\n",
        "for epoch in range(200000):\n",
        "    optimizer.zero_grad()\n",
        "\n",
        "    # forward pass\n",
        "    Y_pred = model(X_tensor)\n",
        "\n",
        "    # compute loss\n",
        "    loss = criterion(Y_pred, T_tensor)\n",
        "    if epoch% 1000 == 0:\n",
        "        print(loss.item())\n",
        "    # backward pass\n",
        "    loss.backward()\n",
        "    optimizer.step()"
      ],
      "execution_count": null,
      "outputs": []
    },
    {
      "cell_type": "markdown",
      "metadata": {
        "id": "yhq2WombR3rD"
      },
      "source": [
        "Congratulations on training your first Pytorch model! :) Lastly, let's plot probabilistic predictions for each datapoint."
      ]
    },
    {
      "cell_type": "code",
      "metadata": {
        "id": "ZGYAg37ZR0y5"
      },
      "source": [
        "model.eval()\n",
        "c = [model(torch.tensor([h, w], dtype=torch.float)) for h, w in zip(H_scaled, W_scaled)]\n",
        "plt.scatter(H_scaled, W_scaled, c =c)\n",
        "plt.colorbar()\n"
      ],
      "execution_count": null,
      "outputs": []
    },
    {
      "cell_type": "markdown",
      "metadata": {
        "id": "3HLePwK-SVgI"
      },
      "source": [
        "### 3. Star, Galaxy, or Quasar? (no points, optional)"
      ]
    },
    {
      "cell_type": "markdown",
      "source": [
        "The exercise gives no points, but we provide feedback if you try it.\n",
        "\n",
        "*Ref: Murphy 8.3.7, Bishop 4.3.4*"
      ],
      "metadata": {
        "id": "OZhKyxgNzvmB"
      }
    },
    {
      "cell_type": "markdown",
      "source": [
        "\n",
        "![alt text](https://www.sdss.org/wp-content/uploads/2014/05/segue.jpg)\n",
        "\n",
        "\n",
        "In this problem, we will be extending our Pytorch logististic regression model to predict whether an observed object is a star, galaxy, or quasar.\n",
        "\n",
        "**The Data**\n",
        "\n",
        "We will be using data collected by the Sloan Digital Sky Survey ([SDSS](http://www.sdss.org/)) and released as part of Data Release 14. SDSS is a multi-spectral and spectroscopic survey telescope at Apache Point Observatory in New Mexico, USA. \n",
        "\n",
        "The telescope uses a camera of 30 CCDs which observe in different optical filter bands (u,g,r,i,z). The data used here is freely publicly available. \n",
        "\n",
        "Therefore we will be importing a table of 10,000 objects, for each of which we have the following information:\n",
        "- class = tells us whether the object is a GALAXY, STAR, or QSO (\"quasi-stellar object\" or [quasar](https://en.wikipedia.org/wiki/Quasar))\n",
        "- objid = object identifiier\n",
        "- specobjid = another object ID, this time for spectroscopic observations\n",
        "- ra = [Right Ascension](https://en.wikipedia.org/wiki/Right_ascension)\n",
        "- dec = Declination \n",
        "- mjd = date of observation\n",
        "\n",
        "\n",
        "Magnitude in each of the following [filters](http://skyserver.sdss.org/dr1/en/proj/advanced/color/sdssfilters.asp):\n",
        "- u\n",
        "- g\n",
        "- r\n",
        "- i\n",
        "- z\n",
        "\n",
        "A number of attributes of the image that contained the object when imaged by SDSS:\n",
        "- run = number that identifies a specific scan\n",
        "- camcol = number that indicates which part of a CCD was used\n",
        "- field = indicates when in the scan the object was imaged\n",
        "- rerun = indicates how the image was processed\n",
        "- fiberid\n",
        "- plate\n",
        "\n",
        "The last two items refer to how spectroscopic observations are taken by SDSS. The instruments use ciruclar metal plates that position optical fibers via holes drilled at the locations of objects in an image. The fibers are fed into the spectrographs. Each plate is numbered and so is each fiber. The reason we have these items in our datatable is because spectrographic observations are how SDSS determines\n",
        "\n",
        "- [redshift](https://en.wikipedia.org/wiki/Redshift),\n",
        "\n",
        "the last item of information we have for our objects. We will not be needing almost any of the imaging data, so you don't need to understand how SDSS works, but if you're curious, you can read about it [here](http://www.sdss3.org/dr9/imaging/imaging_basics.php). "
      ],
      "metadata": {
        "id": "0prIBkcKymrd"
      }
    },
    {
      "cell_type": "markdown",
      "metadata": {
        "id": "Oa8FSTrxS6yS"
      },
      "source": [
        "1. We don't need to know everything about astronomy to already understand that there are a number of data columns that won't be related to the target variable **class** in a meaningful way and may lead to only accidental correlations. Therefore we choose to drop these. Which data items do you see as appropriate to remove from the input data?"
      ]
    },
    {
      "cell_type": "markdown",
      "metadata": {
        "id": "D2cXnQwrZ00t"
      },
      "source": [
        "Your solution here"
      ]
    },
    {
      "cell_type": "code",
      "metadata": {
        "id": "ZQWScr28R6PV"
      },
      "source": [
        "# Let's import the aforementioned data\n",
        "!wget https://raw.githubusercontent.com/klukosiute/ml4pha_datasets/main/Skyserver_SQL2_27_2018%206_51_39%20PM.csv"
      ],
      "execution_count": null,
      "outputs": []
    },
    {
      "cell_type": "code",
      "metadata": {
        "id": "k4ml0DQVTA_t"
      },
      "source": [
        "sdss_df = pd.read_csv('/content/Skyserver_SQL2_27_2018 6_51_39 PM.csv', skiprows=0)\n",
        "sdss_df.head()"
      ],
      "execution_count": null,
      "outputs": []
    },
    {
      "cell_type": "markdown",
      "metadata": {
        "id": "XLG9ez1tTbVu"
      },
      "source": [
        "2. Exploring data and understanding it is an important part of the machine learning mindset. In that spirit, find out how many objects of each class are in the catalog. How do you think this might influence how often objects are classified as a given class?"
      ]
    },
    {
      "cell_type": "code",
      "metadata": {
        "id": "d5cCwx1faNrU"
      },
      "source": [
        "#Your code here"
      ],
      "execution_count": null,
      "outputs": []
    },
    {
      "cell_type": "markdown",
      "metadata": {
        "id": "Q1uMQh99aXae"
      },
      "source": [
        "Your answer here"
      ]
    },
    {
      "cell_type": "markdown",
      "metadata": {
        "id": "5PfsPNUvTnLo"
      },
      "source": [
        "3. Make histograms of redshift for stars, galaxies, and quasars. What are the results telling you? "
      ]
    },
    {
      "cell_type": "code",
      "metadata": {
        "id": "PbTc9xtDabD1"
      },
      "source": [
        "#Your code here"
      ],
      "execution_count": null,
      "outputs": []
    },
    {
      "cell_type": "markdown",
      "metadata": {
        "id": "Rjj8ZqYtaeCn"
      },
      "source": [
        "Your answer here"
      ]
    },
    {
      "cell_type": "markdown",
      "metadata": {
        "id": "PgaH_DfSTxpY"
      },
      "source": [
        "Before we can move onto training a model that predicts objects, we need to do a few things to our dataset.\n",
        "\n",
        "4. The first thing to do is remove the unneeded data fields from our dataset. This can be done with the [df.drop()](https://pandas.pydata.org/pandas-docs/stable/reference/api/pandas.DataFrame.drop.html) function. Do so for the fields you deemed unnecessary earlier."
      ]
    },
    {
      "cell_type": "code",
      "metadata": {
        "id": "PFK7TT-NaiFm"
      },
      "source": [
        "#Your code here"
      ],
      "execution_count": null,
      "outputs": []
    },
    {
      "cell_type": "markdown",
      "metadata": {
        "id": "Nio3IwbAT8Pe"
      },
      "source": [
        "Next, we need to convert our text labels (STAR, GALAXY, or QSO) into digits. Pytorch has a particular curiosity that, for the `CrossEntropyLoss`, the inputs need to be not one-hot encoded vectors but rather simply the indices of the class. However, the output of the model **should** be a vector of length 3 because the `CrossEntropyLoss` module converts your class indices into one-hot vectors internally.\n",
        "\n",
        "Therefore, write a function that takes as input the numpy array `sdss_df['class'].values`, which is an array of the strings STAR, GALAXY, or QSO, and converts it to an array that contains 0,1, or 2 as entries. \n",
        "\n",
        "5. Create your target array `T` using your function."
      ]
    },
    {
      "cell_type": "code",
      "metadata": {
        "id": "fgcjinjraomW"
      },
      "source": [
        "#Your code here"
      ],
      "execution_count": null,
      "outputs": []
    },
    {
      "cell_type": "markdown",
      "metadata": {
        "id": "siEEwyDBUGY8"
      },
      "source": [
        "6. Now build your input array `X` by feature scaling each of your feature columns and combining the features into a numpy array."
      ]
    },
    {
      "cell_type": "code",
      "metadata": {
        "id": "J7RnbaNWasWG"
      },
      "source": [
        "#Your code here"
      ],
      "execution_count": null,
      "outputs": []
    },
    {
      "cell_type": "markdown",
      "metadata": {
        "id": "hv2fCEzrUJw7"
      },
      "source": [
        "Now the final data processing step: we will need a subset of the data to impartially evaluate the performance of our classifier. \n",
        "\n",
        "7. First, shuffle your X and T arrays, in such a way that each row still corresponds to each row! Split your target array `T` into two arrays: `T_train` and `T_test` and corresponding two `X_train` and `X_test` arrays, where the train test contains 90% of the datapoints and the test dataset contains 10% of the datapoints."
      ]
    },
    {
      "cell_type": "code",
      "metadata": {
        "id": "Z4eARmkZaw7l"
      },
      "source": [
        "#Your code here"
      ],
      "execution_count": null,
      "outputs": []
    },
    {
      "cell_type": "markdown",
      "metadata": {
        "id": "IENUBwMHUO1e"
      },
      "source": [
        "8. Now we are ready to move onto the Pytorch part of the exercises. As in the exercises, convert your train and test arrays to torch tensors."
      ]
    },
    {
      "cell_type": "code",
      "metadata": {
        "id": "pvYvyhJfa5jV"
      },
      "source": [
        "#Your code here"
      ],
      "execution_count": null,
      "outputs": []
    },
    {
      "cell_type": "markdown",
      "metadata": {
        "id": "5_ArNHYVUUCU"
      },
      "source": [
        "9. Extend your code for the Logistic Regression Pytorch model from the exercises for multiclass classification with more than two input parameters. Train your code again with the  cross entropy loss, using the SGD optimizer. You can use 15000 steps and a learning rate 0.02 as a starting point."
      ]
    },
    {
      "cell_type": "code",
      "metadata": {
        "id": "4FUDtErZa9RA"
      },
      "source": [
        "#Your code here"
      ],
      "execution_count": null,
      "outputs": []
    },
    {
      "cell_type": "markdown",
      "metadata": {
        "id": "8Icnng1tUaFH"
      },
      "source": [
        "Although we aim to minimize the loss function, it hardly tells us as humans how well the classification scheme is performing. To get a better understanding of performance, we look at *accuracy*, or the fraction of correct predictions from total predictions. \n",
        "\n",
        "10. Define the function `accuracy` which takes as inputs the targets and the predictions by the model and use it to evaluate the accuracy of our logistic regression model on the train and test datasets."
      ]
    },
    {
      "cell_type": "code",
      "metadata": {
        "id": "Qv1DiNksbDSf"
      },
      "source": [
        "#Your code here"
      ],
      "execution_count": null,
      "outputs": []
    },
    {
      "cell_type": "markdown",
      "metadata": {
        "id": "bCRQ1wR5SZEb"
      },
      "source": [
        "### 4. Derivation Problems (2 points)"
      ]
    },
    {
      "cell_type": "markdown",
      "source": [
        "\n",
        "1. (1 points) $$\\\\ $$ Verify that the derivative of the sigmoid\n",
        "$$\n",
        "\\sigma(a) = \\frac{1}{1 + \\exp(-a)} \\, ,\n",
        "$$\n",
        "is\n",
        "$$\n",
        "\\frac{d\\sigma}{da} = \\sigma(1 - \\sigma) \\, .\n",
        "$$"
      ],
      "metadata": {
        "id": "q9ZbRChfyq6C"
      }
    },
    {
      "cell_type": "markdown",
      "metadata": {
        "id": "tERnPZlBZePd"
      },
      "source": [
        "$$\n",
        "\\sigma(a) = \\frac{1}{1 + e^{-a}} \\\n",
        "$$\n",
        "$$\n",
        "\\frac{d}{da}\\sigma(a) = \\frac{d}{da}\\frac{1}{1 + e^{-a}} \\\n",
        "$$\n",
        "$$\n",
        "=- (1 + e^{-a})^{-2}(-e^{-a})\n",
        "$$\n",
        "$$\n",
        "=\\frac{e^{-a}}{(1+e^{-a})^2}\n",
        "$$\n",
        "$$\n",
        "=\\frac{1}{1 + e^{-a}}\\frac{e^{-a}}{1 + e^{-a}}\n",
        "$$\n",
        "$$\n",
        "=\\frac{1}{1 + e^{-a}}\\frac{e^{-a} + (1 - 1)}{1 + e^{-a}}\n",
        "$$\n",
        "$$\n",
        "=\\frac{1}{1 + e^{-a}} (\\frac{1 + e^{-a}}{1 + e^{-a}} - \\frac{1}{1 + e^{-a}})\n",
        "$$\n",
        "$$\n",
        "=\\frac{1}{1 + e^{-a}} (1 - \\frac{1}{1 + e^{-a}})\n",
        "$$\n",
        "\n",
        "$$\n",
        "\\frac{d\\sigma}{da} = \\sigma(1 - \\sigma) \\ \n",
        "$$"
      ]
    },
    {
      "cell_type": "markdown",
      "metadata": {
        "id": "RKUYA2evSp3e"
      },
      "source": [
        "2. (1 points) $$\\\\ $$ Starting with the likelihood of the binary logistic regression\n",
        "$$\n",
        "p(\\mathbf{t} | \\mathbf{w})=\\prod_{n=1}^{N} y_{n}^{t_{n}}\\left\\{1-y_{n}\\right\\}^{1-t_{n}} \\, ,\n",
        "$$\n",
        "show that the negative logarithm of the likelihood gives the *binary cross-entropy* error and that the derivative of the cross entropy error is\n",
        "$$\n",
        "\\nabla E(\\mathbf{w})=\\sum_{n=1}^{N}\\left(y_{n}-t_{n}\\right) \\phi_{n} \\, .\n",
        "$$\n"
      ]
    },
    {
      "cell_type": "markdown",
      "metadata": {
        "id": "HUo16WGpZiot"
      },
      "source": [
        "$$\n",
        "p(\\mathbf{t} | \\mathbf{w})=\\prod_{n=1}^{N} y_{n}^{t_{n}}\\left\\{1-y_{n}\\right\\}^{1-t_{n}} \\, ,\n",
        "$$\n",
        "\n",
        "\n",
        "\n"
      ]
    }
  ]
}